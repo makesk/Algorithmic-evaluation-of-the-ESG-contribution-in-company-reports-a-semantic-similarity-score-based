{
 "cells": [
  {
   "cell_type": "code",
   "execution_count": 16,
   "metadata": {},
   "outputs": [],
   "source": [
    "import pandas as pd\n",
    "import nltk\n",
    "datacorp = pd.read_pickle('pickles/lhv2016t2021.pkl')\n",
    "datacorp['document'] = datacorp.index\n",
    "\n",
    "query_G = 'Audit and control, Board structure, Remuneration, Shareholder rights, Transparency and Performance'\n",
    "query_S = 'Access to medicines, HIV, AIDs, Nutrition, Product safety, Community relations, Privacy and free expression, Security, Weak, governance zones, Diversity, Health and safety, ILO core conventions, Supply chain labor standards, Bribery and corruption, Political influence, Responsible marketing, Whistle-blowing systems, disclosure and reporting, Governance of sustainability issues, Stakeholder engagement, UNGC compliance'\n",
    "query_E = 'Biofuels, Climate ,Emissions ,land, Biodiversity, Water, Environmental, standards, Pollution, Supply, Waste, recycling'\n",
    "\n",
    "testdoc = datacorp.loc[datacorp['document']== '2016_ar_en_eur_con_00.txt']\n"
   ]
  },
  {
   "cell_type": "code",
   "execution_count": 17,
   "metadata": {},
   "outputs": [
    {
     "name": "stdout",
     "output_type": "stream",
     "text": [
      "1 documents\n"
     ]
    }
   ],
   "source": [
    "#andmetest võtan andmepealkirjad ja tekstid nimetan dokumentideks\n",
    "\n",
    "titles = [item for item in testdoc['document']]\n",
    "documents = [item for item in testdoc['text']]\n",
    "\n",
    "\n",
    "print(f'{len(documents)} documents')"
   ]
  },
  {
   "cell_type": "code",
   "execution_count": 21,
   "metadata": {},
   "outputs": [],
   "source": [
    "import nltk\n",
    "from nltk.corpus import stopwords\n",
    "nltk.download('stopwords', quiet=True)\n",
    "def preprocess(doc):\n",
    "    doc = doc.lower().split()\n",
    "    stop_words = stopwords.words('english')\n",
    "    doc = [w for w in doc if w not in stop_words]\n",
    "    return doc"
   ]
  },
  {
   "cell_type": "code",
   "execution_count": 24,
   "metadata": {},
   "outputs": [],
   "source": [
    "import re \n",
    "import string\n",
    "def preprocess_query(doc):\n",
    "    doc = doc.lower().split()\n",
    "    doc = [remove_punc(i) for i in doc]\n",
    "    stop_words = stopwords.words('english')\n",
    "    doc = [w for w in doc if w not in stop_words]\n",
    "    return doc"
   ]
  },
  {
   "cell_type": "code",
   "execution_count": 25,
   "metadata": {},
   "outputs": [],
   "source": [
    "def remove_punc(string):\n",
    "    punc = '''!()-[]{};:'\"\\, <>./?@#$%^&*_~'''\n",
    "    for ele in string:  \n",
    "        if ele in punc:  \n",
    "            string = string.replace(ele, \"\") \n",
    "    return string"
   ]
  },
  {
   "cell_type": "code",
   "execution_count": 34,
   "metadata": {},
   "outputs": [
    {
     "data": {
      "text/plain": [
       "['access',\n",
       " 'medicines',\n",
       " 'hiv',\n",
       " 'aids',\n",
       " 'nutrition',\n",
       " 'product',\n",
       " 'safety',\n",
       " 'community',\n",
       " 'relations',\n",
       " 'privacy',\n",
       " 'free',\n",
       " 'expression',\n",
       " 'security',\n",
       " 'weak',\n",
       " 'governance',\n",
       " 'zones',\n",
       " 'diversity',\n",
       " 'health',\n",
       " 'safety',\n",
       " 'ilo',\n",
       " 'core',\n",
       " 'conventions',\n",
       " 'supply',\n",
       " 'chain',\n",
       " 'labor',\n",
       " 'standards',\n",
       " 'bribery',\n",
       " 'corruption',\n",
       " 'political',\n",
       " 'influence',\n",
       " 'responsible',\n",
       " 'marketing',\n",
       " 'whistleblowing',\n",
       " 'systems',\n",
       " 'disclosure',\n",
       " 'reporting',\n",
       " 'governance',\n",
       " 'sustainability',\n",
       " 'issues',\n",
       " 'stakeholder',\n",
       " 'engagement',\n",
       " 'ungc',\n",
       " 'compliance']"
      ]
     },
     "execution_count": 34,
     "metadata": {},
     "output_type": "execute_result"
    }
   ],
   "source": [
    "\n",
    "corpus_test = preprocess(documents[0])\n",
    "query_test = preprocess_query(query_S)\n",
    "query_test"
   ]
  },
  {
   "cell_type": "code",
   "execution_count": 35,
   "metadata": {},
   "outputs": [
    {
     "name": "stdout",
     "output_type": "stream",
     "text": [
      "0.02 = 0.00 (hiv:risk) + 0.00 (aids:risk) + 0.00 (labor:non) + 0.00 (engagement:activities) + 0.00 (labor:current) + 0.00 (labor:term) + 0.00 (labor:tax) + 0.00 (corruption:internal) + 0.00 (conventions:activities) + 0.00 (labor:pension) + 0.00 (labor:economic) + 0.00 (labor:consumer) + 0.00 (labor:finance) + 0.00 (labor:increase) + 0.00 (labor:changes) + 0.00 (zones:operations) + 0.00 (privacy:legal) + 0.00 (labor:change) + 0.00 (corruption:legal) + 0.00 (labor:legal) + 0.00 (labor:parties) + 0.00 (labor:commission) + 0.00 (zones:within) + 0.00 (labor:policies) + 0.00 (zones:control) + 0.00 (conventions:provisions) + 0.00 (privacy:provisions) + 0.00 (labor:policy) + 0.00 (conventions:accordance) + 0.00 (hiv:impaired) + 0.00 (medicines:products) + 0.00 (expression:recognition) + 0.00 (expression:values) + 0.00 (medicines:use) + 0.00 (conventions:principles) + 0.00 (labor:social) + 0.00 (labor:demand) + 0.00 (corruption:policies) + 0.00 (conventions:act) + 0.00 (expression:therefore) + 0.00 (privacy:rights) + 0.00 (labor:economy) + 0.00 (zones:buffer) + 0.00 (bribery:charged) + 0.00 (zones:areas) + 0.00 (zones:monitoring) + 0.00 (zones:limits) + 0.00 (privacy:limits) + 0.00 (engagement:policy) + 0.00 (conventions:limits) + 0.00 (labor:major) + 0.00 (corruption:charged) + 0.00 (labor:public) + 0.00 (privacy:liability) + 0.00 (nutrition:quality) + 0.00 (engagement:continuing) + 0.00 (bribery:fraud) + 0.00 (conventions:rules) + 0.00 (zones:conditions) + 0.00 (corruption:public) + 0.00 (engagement:goodwill) + 0.00 (conventions:matters) + 0.00 (privacy:matters) + 0.00 (corruption:fraud) + 0.00 (nutrition:basic) + 0.00 (privacy:client) + 0.00 (expression:positive) + 0.00 (conventions:rights) + 0.00 (labor:trade) + 0.00 (labor:support) + 0.00 (bribery:arising) + 0.00 (labor:local) + 0.00 (privacy:public) + 0.00 (privacy:provision) + 0.00 (expression:collective) + 0.00 (privacy:rules) + 0.00 (labor:sector) + 0.00 (labor:union) + 0.00 (labor:continuing) + 0.00 (labor:benefits) + 0.00 (medicines:items) + 0.00 (privacy:law) + 0.00 (labor:employment) + 0.00 (expression:thus) + 0.00 (conventions:events) + 0.00 (labor:measures) + 0.00 (zones:existing) + 0.00 (labor:domestic) + 0.00 (expression:example) + 0.00 (zones:base) + 0.00 (conventions:law) + 0.00 (expression:subject) + 0.00 (labor:continue) + 0.00 (labor:industry) + 0.00 (expression:respect) + 0.00 (engagement:approach) + 0.00 (conventions:articles) + 0.00 (privacy:regarding) + 0.00 (conventions:subject) + 0.00 (engagement:continue) + 0.00 (expression:negative) + 0.00 (expression:regard) + 0.00 (expression:certain) + 0.00 (engagement:exchanges) + 0.00 (labor:labour) + 0.00 (conventions:relevant) + 0.00 (zones:covering) + 0.00 (zones:designated) + 0.00 (engagement:strategy) + 0.00 (labor:wages) + 0.00 (expression:sensitivity) + 0.00 (expression:nature) + 0.00 (zones:area) + 0.00 (expression:specific) + 0.00 (corruption:charge) + 0.00 (conventions:regarding) + 0.00 (labor:concern) + 0.00 (bribery:charge) + 0.00 (expression:manner) + 0.00 (expression:means) + 0.00 (engagement:engage) + 0.00 (engagement:commitment) + 0.00 (zones:except) + 0.00 (labor:sectors) + 0.00 (conventions:amendments) + 0.00 (nutrition:provides) + 0.00 (aids:developing) + 0.00 (engagement:aim) + 0.00 (privacy:allows) + 0.00 (zones:maintain) + 0.00 (engagement:engaged) + 0.00 (engagement:exercise) + 0.00 (engagement:focus) + 0.00 (nutrition:adequate) + 0.00 (expression:behaviour) + 0.00 (zones:targets) + 0.00 (privacy:ethical) + 0.00 (engagement:continues) + 0.00 (expression:characteristics) + 0.00 (labor:government) + 0.00 (bribery:involving) + 0.00 (nutrition:education) + 0.00 (engagement:ties) + 0.00 (engagement:action) + 0.00 (expression:relation) + 0.00 (engagement:towards) + 0.00 (expression:exists) + 0.00 (conventions:applicable) + 0.00 (conventions:purposes) + 0.00 (corruption:government) + 0.00 (expression:reflects) + 0.00 (engagement:cooperation) + 0.00 (zones:operate) + 0.00 (conventions:interpretations) + 0.00 (zones:countries) + 0.00 (corruption:administration) + 0.00 (labor:party) + 0.00 (expression:particular) + 0.00 (expression:define) + 0.00 (conventions:code) + 0.00 (labor:legislation) + 0.00 (labor:governing) + 0.00 (engagement:focused) + 0.00 (conventions:amended) + 0.00 (hiv:testing) + 0.00 (expression:definition) + 0.00 (hiv:tests) + 0.00 (expression:adherence) + 0.00 (expression:furthermore) + 0.00 (engagement:role) + 0.00 (expression:describe) + 0.00 (conventions:laws) + 0.00 (expression:function) + 0.00 (engagement:participation) + 0.00 (expression:emphasis) + 0.00 (privacy:laws) + 0.00 (expression:consistent) + 0.00 (zones:bases) + 0.00 (conventions:define) + 0.00 (conventions:consider) + 0.00 (engagement:aimed) + 0.00 (conventions:legislation) + 0.00 (labor:governments) + 0.00 (engagement:determination) + 0.00 (conventions:various) + 0.00 (expression:reflected) + 0.00 (hiv:tested) + 0.00 (ilo:organisation) + 0.00 (engagement:emphasis) + 0.00 (engagement:enhance) + 0.00 (labor:participation) + 0.00 (labor:insurance) + 0.00 (engagement:strategic) + 0.00 (privacy:personal) + 0.00 (expression:context) + 0.00 (medicines:equipment) + 0.00 (labor:wage) + 0.00 (medicines:import) + 0.00 (expression:passive) + 0.00 (aids:human) + 0.00 (privacy:apply) + 0.00 (privacy:coverage) + 0.00 (zones:exist) + 0.00 (conventions:apply) + 0.00 (corruption:involvement) + 0.00 (conventions:exist) + 0.00 (conventions:definition) + 0.00 (engagement:constructive) + 0.00 (medicines:prescribed) + 0.00 (labor:unemployment) + 0.00 (aids:children) + 0.00 (engagement:maintaining) + 0.00 (stakeholder:shareholder) + 0.00 (expression:understanding) + 0.00 (expression:meaning) + 0.00 (hiv:human) + 0.00 (engagement:establishment) + 0.00 (labor:agriculture) + 0.00 (engagement:contacts) + 0.00 (engagement:efforts) + 0.00 (engagement:establishing) + 0.00 (expression:human) + 0.00 (expression:simple) + 0.00 (engagement:direct) + 0.00 (zones:region) + 0.00 (bribery:involvement) + 0.00 (expression:shown) + 0.00 (expression:rather) + 0.00 (corruption:crisis) + 0.00 (zones:sub) + 0.00 (engagement:pursuit) + 0.00 (engagement:intention) + 0.00 (engagement:actions) + 0.00 (expression:depends) + 0.00 (labor:working) + 0.00 (expression:content) + 0.00 (engagement:transition) + 0.00 (labor:coalition) + 0.00 (corruption:linked) + 0.00 (engagement:understanding) + 0.00 (engagement:promoting) + 0.00 (engagement:establish) + 0.00 (expression:defines) + 0.00 (conventions:aspects) + 0.00 (conventions:exceptions) + 0.00 (aids:adoption) + 0.00 (privacy:ethics) + 0.00 (medicines:essential) + 0.00 (privacy:applies) + 0.00 (privacy:adoption) + 0.00 (conventions:enacted) + 0.00 (zones:settlements) + 0.00 (aids:prevention) + 0.00 (conventions:committees) + 0.00 (nutrition:essential) + 0.00 (conventions:acts) + 0.00 (conventions:subjects) + 0.00 (nutrition:journal) + 0.00 (bribery:charges) + 0.00 (ilo:volti) + 0.00 (bribery:collusion) + 0.00 (labor:unions) + 0.00 (privacy:registry) + 0.00 (hiv:prevention) + 0.00 (conventions:convention) + 0.00 (expression:tolerance) + 0.00 (bribery:forgery) + 0.00 (engagement:dialogue) + 0.00 (expression:interpretation) + 0.00 (engagement:pursue) + 0.00 (bribery:fixing) + 0.00 (expression:hence) + 0.00 (labor:reforms) + 0.00 (corruption:charges) + 0.00 (expression:defining) + 0.00 (conventions:strictly) + 0.00 (privacy:violate) + 0.00 (aids:care) + 0.00 (expression:merely) + 0.00 (nutrition:care) + 0.00 (expression:forms) + 0.00 (corruption:facing) + 0.00 (nutrition:prevention) + 0.00 (corruption:faces) + 0.00 (engagement:exercises) + 0.00 (labor:spending) + 0.00 (zones:borders) + 0.00 (labor:poor) + 0.00 (expression:essence) + 0.00 (hiv:cases) + 0.00 (aids:study) + 0.00 (expression:reference) + 0.00 (engagement:promote) + 0.00 (engagement:step) + 0.00 (engagement:acceptance) + 0.00 (expression:interaction) + 0.00 (labor:country) + 0.00 (engagement:ongoing) + 0.00 (expression:acceptance) + 0.00 (stakeholder:stakeholders) + 0.00 (expression:defined) + 0.00 (hiv:contracting) + 0.00 (expression:describes) + 0.00 (privacy:limitations) + 0.00 (conventions:regulations) + 0.00 (labor:commerce) + 0.00 (expression:behavior) + 0.00 (expression:true) + 0.00 (expression:physical) + 0.00 (engagement:renewed) + 0.00 (aids:cases) + 0.00 (engagement:progress) + 0.00 (expression:inclusion) + 0.00 (expression:preference) + 0.00 (privacy:protect) + 0.00 (labor:minority) + 0.00 (labor:leading) + 0.00 (medicines:distribute) + 0.00 (conventions:resolutions) + 0.00 (labor:opposed) + 0.00 (engagement:continued) + 0.00 (medicines:supplies) + 0.00 (medicines:treats) + 0.00 (conventions:violate) + 0.00 (corruption:handling) + 0.00 (engagement:pursued) + 0.00 (engagement:joint) + 0.00 (engagement:consultation) + 0.00 (engagement:initiated) + 0.00 (engagement:collaboration) + 0.00 (corruption:fixing) + 0.00 (corruption:failing) + 0.00 (engagement:discussion) + 0.00 (corruption:ongoing) + 0.00 (conventions:guidelines) + 0.00 (corruption:campaign) + 0.00 (bribery:fraudulent) + 0.00 (corruption:committed) + 0.00 (zones:barriers) + 0.00 (zones:protect) + 0.00 (zones:land) + 0.00 (corruption:collusion) + 0.00 (zones:restrictions) + 0.00 (conventions:treaties) + 0.00 (aids:contracting) + 0.00 (expression:bias) + 0.00 (nutrition:study) + 0.00 (privacy:restrictions) + 0.00 (labor:housing) + 0.00 (medicines:rely) + 0.00 (zones:continuous) + 0.00 (expression:expresses) + 0.00 (nutrition:healthy) + 0.00 (ilo:miti) + 0.00 (privacy:regulations) + 0.00 (conventions:relating) + 0.00 (nutrition:treats) + 0.00 (nutrition:guidelines) + 0.00 (privacy:regardless) + 0.00 (nutrition:research) + 0.00 (privacy:safeguards) + 0.00 (conventions:definitions) + 0.00 (conventions:defining) + 0.00 (conventions:permitted) + 0.00 (zones:country) + 0.00 (privacy:file) + 0.00 (nutrition:promotes) + 0.00 (privacy:notice) + 0.00 (nutrition:occupational) + 0.00 (nutrition:recommended) + 0.00 (corruption:forgery) + 0.00 (zones:geographic) + 0.00 (nutrition:resource) + 0.00 (nutrition:organic) + 0.00 (nutrition:habits) + 0.00 (stakeholder:grouping)\n"
     ]
    }
   ],
   "source": [
    "import gensim.downloader as api\n",
    "from gensim.corpora import Dictionary\n",
    "from gensim.models import TfidfModel\n",
    "from gensim.similarities import SparseTermSimilarityMatrix\n",
    "from gensim.models import WordEmbeddingSimilarityIndex \n",
    "corpus_t = [query_test, corpus_test]\n",
    "dictionary_t = Dictionary(corpus_t)\n",
    "tfidf = TfidfModel(dictionary=dictionary_t)\n",
    "\n",
    "query_test_tf = tfidf[dictionary_t.doc2bow(query_test)]\n",
    "corpus_test_tf = tfidf[dictionary_t.doc2bow(corpus_test)]\n",
    "glove = api.load(\"glove-wiki-gigaword-50\")\n",
    "similarity_index_test = WordEmbeddingSimilarityIndex(glove)\n",
    "\n",
    "similarity_matrix_test = SparseTermSimilarityMatrix(similarity_index_test, dictionary_t, tfidf)\n",
    "\n",
    "interpret_soft_cosine_measure(query_test_tf,corpus_test_tf,dictionary_t,similarity_matrix_test)"
   ]
  },
  {
   "cell_type": "code",
   "execution_count": 31,
   "metadata": {},
   "outputs": [],
   "source": [
    "def interpret_soft_cosine_measure(doc1, doc2, dictionary, similarity_matrix):\n",
    "    word_pair_importances = dict()\n",
    "    for word1_id, word1_weight in doc1:\n",
    "        word1 = dictionary.id2token[word1_id]\n",
    "        for word2_id, word2_weight in doc2:\n",
    "            word_similarity = similarity_matrix.matrix[word1_id, word2_id]\n",
    "            word_pair_importance = word1_weight * word_similarity * word2_weight\n",
    "            if word_pair_importance == 0:\n",
    "                continue\n",
    "            word1 = dictionary.id2token[word1_id]\n",
    "            word2 = dictionary.id2token[word2_id]\n",
    "            if (word1, word2) not in word_pair_importances:\n",
    "                word_pair_importances[word1, word2] = 0.0\n",
    "            word_pair_importances[word1, word2] += word_pair_importance\n",
    "    norm = 1.0\n",
    "    norm *= similarity_matrix.inner_product(doc1, doc1) or 1.0\n",
    "    norm *= similarity_matrix.inner_product(doc2, doc2) or 1.0\n",
    "    normalized_word_pair_importances = {\n",
    "        (word1, word2): word_pair_importance / norm\n",
    "        for (word1, word2), word_pair_importance\n",
    "        in word_pair_importances.items()\n",
    "    }\n",
    "    similarity = sum(normalized_word_pair_importances.values())\n",
    "    normalized_word_pair_importances = sorted(normalized_word_pair_importances.items(), key=lambda x: x[1], reverse=True)\n",
    "    normalized_word_pair_importances = ' + '.join(\n",
    "        '{:.02f} ({}:{})'.format(word_pair_importance, word1, word2) if word1 != word2 else '{:.02f} ({})'.format(word_pair_importance, word1)\n",
    "        for (word1, word2), word_pair_importance\n",
    "        in normalized_word_pair_importances\n",
    "    )\n",
    "    print('{:.02f} = {}'.format(similarity, normalized_word_pair_importances))"
   ]
  },
  {
   "cell_type": "code",
   "execution_count": 36,
   "metadata": {},
   "outputs": [
    {
     "ename": "NameError",
     "evalue": "name 'dictionary' is not defined",
     "output_type": "error",
     "traceback": [
      "\u001b[1;31m---------------------------------------------------------------------------\u001b[0m",
      "\u001b[1;31mNameError\u001b[0m                                 Traceback (most recent call last)",
      "\u001b[1;32m<ipython-input-36-db1a41b76c7f>\u001b[0m in \u001b[0;36m<module>\u001b[1;34m\u001b[0m\n\u001b[0;32m      6\u001b[0m \u001b[0ms\u001b[0m \u001b[1;33m=\u001b[0m \u001b[0mpreprocess\u001b[0m\u001b[1;33m(\u001b[0m\u001b[0msentence_president\u001b[0m\u001b[1;33m)\u001b[0m\u001b[1;33m\u001b[0m\u001b[1;33m\u001b[0m\u001b[0m\n\u001b[0;32m      7\u001b[0m \u001b[0mt\u001b[0m \u001b[1;33m=\u001b[0m \u001b[0mpreprocess\u001b[0m\u001b[1;33m(\u001b[0m\u001b[0mdocument_orange\u001b[0m\u001b[1;33m)\u001b[0m\u001b[1;33m\u001b[0m\u001b[1;33m\u001b[0m\u001b[0m\n\u001b[1;32m----> 8\u001b[1;33m \u001b[0msentence_president2\u001b[0m \u001b[1;33m=\u001b[0m \u001b[0mdictionary\u001b[0m\u001b[1;33m.\u001b[0m\u001b[0mdoc2bow\u001b[0m\u001b[1;33m(\u001b[0m\u001b[0ms\u001b[0m\u001b[1;33m)\u001b[0m\u001b[1;33m\u001b[0m\u001b[1;33m\u001b[0m\u001b[0m\n\u001b[0m\u001b[0;32m      9\u001b[0m \u001b[1;33m\u001b[0m\u001b[0m\n\u001b[0;32m     10\u001b[0m \u001b[0msentence_orange2\u001b[0m \u001b[1;33m=\u001b[0m \u001b[0mdictionary\u001b[0m\u001b[1;33m.\u001b[0m\u001b[0mdoc2bow\u001b[0m\u001b[1;33m(\u001b[0m\u001b[0mt\u001b[0m\u001b[1;33m)\u001b[0m\u001b[1;33m\u001b[0m\u001b[1;33m\u001b[0m\u001b[0m\n",
      "\u001b[1;31mNameError\u001b[0m: name 'dictionary' is not defined"
     ]
    }
   ],
   "source": [
    "sentence_president='Audit and control, Board structure, Remuneration, Shareholder rights, Transparency and Performance'\n",
    "\n",
    "testdoc = datacorp.loc[datacorp['document']== '2016_ar_en_eur_con_00.txt']\n",
    "document_orange = testdoc[\"text\"][0]\n",
    "\n",
    "s = preprocess(sentence_president)\n",
    "t = preprocess(document_orange)\n",
    "sentence_president2 = dictionary.doc2bow(s)\n",
    "\n",
    "sentence_orange2 = dictionary.doc2bow(t)\n",
    "similarity = similarity_matrix.inner_product(sentence_president2, sentence_orange2, normalized=True)\n",
    "print('similarity = %.4f' % similarity)"
   ]
  },
  {
   "cell_type": "code",
   "execution_count": null,
   "metadata": {},
   "outputs": [],
   "source": []
  }
 ],
 "metadata": {
  "kernelspec": {
   "display_name": "Python 3",
   "language": "python",
   "name": "python3"
  },
  "language_info": {
   "codemirror_mode": {
    "name": "ipython",
    "version": 3
   },
   "file_extension": ".py",
   "mimetype": "text/x-python",
   "name": "python",
   "nbconvert_exporter": "python",
   "pygments_lexer": "ipython3",
   "version": "3.8.3"
  }
 },
 "nbformat": 4,
 "nbformat_minor": 4
}
