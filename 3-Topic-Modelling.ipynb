{
 "cells": [
  {
   "cell_type": "code",
   "execution_count": 1,
   "metadata": {},
   "outputs": [
    {
     "data": {
      "text/html": [
       "<div>\n",
       "<style scoped>\n",
       "    .dataframe tbody tr th:only-of-type {\n",
       "        vertical-align: middle;\n",
       "    }\n",
       "\n",
       "    .dataframe tbody tr th {\n",
       "        vertical-align: top;\n",
       "    }\n",
       "\n",
       "    .dataframe thead th {\n",
       "        text-align: right;\n",
       "    }\n",
       "</style>\n",
       "<table border=\"1\" class=\"dataframe\">\n",
       "  <thead>\n",
       "    <tr style=\"text-align: right;\">\n",
       "      <th></th>\n",
       "      <th>ab</th>\n",
       "      <th>abbr</th>\n",
       "      <th>abbreviation</th>\n",
       "      <th>ability</th>\n",
       "      <th>able</th>\n",
       "      <th>abovementioned</th>\n",
       "      <th>abroad</th>\n",
       "      <th>accelerated</th>\n",
       "      <th>accepted</th>\n",
       "      <th>access</th>\n",
       "      <th>...</th>\n",
       "      <th>year</th>\n",
       "      <th>yearly</th>\n",
       "      <th>years</th>\n",
       "      <th>yes</th>\n",
       "      <th>yield</th>\n",
       "      <th>young</th>\n",
       "      <th>yoy</th>\n",
       "      <th>zero</th>\n",
       "      <th>zone</th>\n",
       "      <th>zones</th>\n",
       "    </tr>\n",
       "  </thead>\n",
       "  <tbody>\n",
       "    <tr>\n",
       "      <th>ignitis2020_q1_en_eur_con_ias.txt</th>\n",
       "      <td>52</td>\n",
       "      <td>2</td>\n",
       "      <td>1</td>\n",
       "      <td>0</td>\n",
       "      <td>1</td>\n",
       "      <td>0</td>\n",
       "      <td>2</td>\n",
       "      <td>1</td>\n",
       "      <td>1</td>\n",
       "      <td>1</td>\n",
       "      <td>...</td>\n",
       "      <td>36</td>\n",
       "      <td>0</td>\n",
       "      <td>14</td>\n",
       "      <td>0</td>\n",
       "      <td>2</td>\n",
       "      <td>1</td>\n",
       "      <td>0</td>\n",
       "      <td>0</td>\n",
       "      <td>1</td>\n",
       "      <td>2</td>\n",
       "    </tr>\n",
       "    <tr>\n",
       "      <th>ignitis2020_q2_en_eur_con_ias.txt</th>\n",
       "      <td>134</td>\n",
       "      <td>0</td>\n",
       "      <td>1</td>\n",
       "      <td>2</td>\n",
       "      <td>3</td>\n",
       "      <td>0</td>\n",
       "      <td>0</td>\n",
       "      <td>0</td>\n",
       "      <td>0</td>\n",
       "      <td>1</td>\n",
       "      <td>...</td>\n",
       "      <td>55</td>\n",
       "      <td>0</td>\n",
       "      <td>26</td>\n",
       "      <td>100</td>\n",
       "      <td>2</td>\n",
       "      <td>4</td>\n",
       "      <td>2</td>\n",
       "      <td>0</td>\n",
       "      <td>1</td>\n",
       "      <td>0</td>\n",
       "    </tr>\n",
       "    <tr>\n",
       "      <th>ignitis2020_q2_en_eur_con_ias_00.txt</th>\n",
       "      <td>133</td>\n",
       "      <td>2</td>\n",
       "      <td>1</td>\n",
       "      <td>0</td>\n",
       "      <td>6</td>\n",
       "      <td>1</td>\n",
       "      <td>1</td>\n",
       "      <td>0</td>\n",
       "      <td>1</td>\n",
       "      <td>1</td>\n",
       "      <td>...</td>\n",
       "      <td>122</td>\n",
       "      <td>0</td>\n",
       "      <td>29</td>\n",
       "      <td>100</td>\n",
       "      <td>2</td>\n",
       "      <td>4</td>\n",
       "      <td>2</td>\n",
       "      <td>0</td>\n",
       "      <td>2</td>\n",
       "      <td>15</td>\n",
       "    </tr>\n",
       "    <tr>\n",
       "      <th>ignitis2020_q3_en_eur_con_ias.txt</th>\n",
       "      <td>185</td>\n",
       "      <td>2</td>\n",
       "      <td>0</td>\n",
       "      <td>0</td>\n",
       "      <td>4</td>\n",
       "      <td>1</td>\n",
       "      <td>1</td>\n",
       "      <td>0</td>\n",
       "      <td>3</td>\n",
       "      <td>0</td>\n",
       "      <td>...</td>\n",
       "      <td>70</td>\n",
       "      <td>2</td>\n",
       "      <td>29</td>\n",
       "      <td>0</td>\n",
       "      <td>2</td>\n",
       "      <td>1</td>\n",
       "      <td>4</td>\n",
       "      <td>1</td>\n",
       "      <td>1</td>\n",
       "      <td>14</td>\n",
       "    </tr>\n",
       "  </tbody>\n",
       "</table>\n",
       "<p>4 rows × 3409 columns</p>\n",
       "</div>"
      ],
      "text/plain": [
       "                                       ab  abbr  abbreviation  ability  able  \\\n",
       "ignitis2020_q1_en_eur_con_ias.txt      52     2             1        0     1   \n",
       "ignitis2020_q2_en_eur_con_ias.txt     134     0             1        2     3   \n",
       "ignitis2020_q2_en_eur_con_ias_00.txt  133     2             1        0     6   \n",
       "ignitis2020_q3_en_eur_con_ias.txt     185     2             0        0     4   \n",
       "\n",
       "                                      abovementioned  abroad  accelerated  \\\n",
       "ignitis2020_q1_en_eur_con_ias.txt                  0       2            1   \n",
       "ignitis2020_q2_en_eur_con_ias.txt                  0       0            0   \n",
       "ignitis2020_q2_en_eur_con_ias_00.txt               1       1            0   \n",
       "ignitis2020_q3_en_eur_con_ias.txt                  1       1            0   \n",
       "\n",
       "                                      accepted  access  ...  year  yearly  \\\n",
       "ignitis2020_q1_en_eur_con_ias.txt            1       1  ...    36       0   \n",
       "ignitis2020_q2_en_eur_con_ias.txt            0       1  ...    55       0   \n",
       "ignitis2020_q2_en_eur_con_ias_00.txt         1       1  ...   122       0   \n",
       "ignitis2020_q3_en_eur_con_ias.txt            3       0  ...    70       2   \n",
       "\n",
       "                                      years  yes  yield  young  yoy  zero  \\\n",
       "ignitis2020_q1_en_eur_con_ias.txt        14    0      2      1    0     0   \n",
       "ignitis2020_q2_en_eur_con_ias.txt        26  100      2      4    2     0   \n",
       "ignitis2020_q2_en_eur_con_ias_00.txt     29  100      2      4    2     0   \n",
       "ignitis2020_q3_en_eur_con_ias.txt        29    0      2      1    4     1   \n",
       "\n",
       "                                      zone  zones  \n",
       "ignitis2020_q1_en_eur_con_ias.txt        1      2  \n",
       "ignitis2020_q2_en_eur_con_ias.txt        1      0  \n",
       "ignitis2020_q2_en_eur_con_ias_00.txt     2     15  \n",
       "ignitis2020_q3_en_eur_con_ias.txt        1     14  \n",
       "\n",
       "[4 rows x 3409 columns]"
      ]
     },
     "execution_count": 1,
     "metadata": {},
     "output_type": "execute_result"
    }
   ],
   "source": [
    "import pandas as pd\n",
    "import pickle\n",
    "\n",
    "data = pd.read_pickle('pickles/ignitisdtm_stop.pkl')\n",
    "data"
   ]
  },
  {
   "cell_type": "code",
   "execution_count": 2,
   "metadata": {},
   "outputs": [],
   "source": [
    "# Import the necessary modules for LDA with gensim\n",
    "# Terminal / Anaconda Navigator: conda install -c conda-forge gensim\n",
    "from gensim import matutils, models\n",
    "import scipy.sparse\n"
   ]
  },
  {
   "cell_type": "code",
   "execution_count": 3,
   "metadata": {},
   "outputs": [
    {
     "data": {
      "text/html": [
       "<div>\n",
       "<style scoped>\n",
       "    .dataframe tbody tr th:only-of-type {\n",
       "        vertical-align: middle;\n",
       "    }\n",
       "\n",
       "    .dataframe tbody tr th {\n",
       "        vertical-align: top;\n",
       "    }\n",
       "\n",
       "    .dataframe thead th {\n",
       "        text-align: right;\n",
       "    }\n",
       "</style>\n",
       "<table border=\"1\" class=\"dataframe\">\n",
       "  <thead>\n",
       "    <tr style=\"text-align: right;\">\n",
       "      <th></th>\n",
       "      <th>ignitis2020_q1_en_eur_con_ias.txt</th>\n",
       "      <th>ignitis2020_q2_en_eur_con_ias.txt</th>\n",
       "      <th>ignitis2020_q2_en_eur_con_ias_00.txt</th>\n",
       "      <th>ignitis2020_q3_en_eur_con_ias.txt</th>\n",
       "    </tr>\n",
       "  </thead>\n",
       "  <tbody>\n",
       "    <tr>\n",
       "      <th>ab</th>\n",
       "      <td>52</td>\n",
       "      <td>134</td>\n",
       "      <td>133</td>\n",
       "      <td>185</td>\n",
       "    </tr>\n",
       "    <tr>\n",
       "      <th>abbr</th>\n",
       "      <td>2</td>\n",
       "      <td>0</td>\n",
       "      <td>2</td>\n",
       "      <td>2</td>\n",
       "    </tr>\n",
       "    <tr>\n",
       "      <th>abbreviation</th>\n",
       "      <td>1</td>\n",
       "      <td>1</td>\n",
       "      <td>1</td>\n",
       "      <td>0</td>\n",
       "    </tr>\n",
       "    <tr>\n",
       "      <th>ability</th>\n",
       "      <td>0</td>\n",
       "      <td>2</td>\n",
       "      <td>0</td>\n",
       "      <td>0</td>\n",
       "    </tr>\n",
       "    <tr>\n",
       "      <th>able</th>\n",
       "      <td>1</td>\n",
       "      <td>3</td>\n",
       "      <td>6</td>\n",
       "      <td>4</td>\n",
       "    </tr>\n",
       "  </tbody>\n",
       "</table>\n",
       "</div>"
      ],
      "text/plain": [
       "              ignitis2020_q1_en_eur_con_ias.txt  \\\n",
       "ab                                           52   \n",
       "abbr                                          2   \n",
       "abbreviation                                  1   \n",
       "ability                                       0   \n",
       "able                                          1   \n",
       "\n",
       "              ignitis2020_q2_en_eur_con_ias.txt  \\\n",
       "ab                                          134   \n",
       "abbr                                          0   \n",
       "abbreviation                                  1   \n",
       "ability                                       2   \n",
       "able                                          3   \n",
       "\n",
       "              ignitis2020_q2_en_eur_con_ias_00.txt  \\\n",
       "ab                                             133   \n",
       "abbr                                             2   \n",
       "abbreviation                                     1   \n",
       "ability                                          0   \n",
       "able                                             6   \n",
       "\n",
       "              ignitis2020_q3_en_eur_con_ias.txt  \n",
       "ab                                          185  \n",
       "abbr                                          2  \n",
       "abbreviation                                  0  \n",
       "ability                                       0  \n",
       "able                                          4  "
      ]
     },
     "execution_count": 3,
     "metadata": {},
     "output_type": "execute_result"
    }
   ],
   "source": [
    "tdm = data.transpose()\n",
    "tdm.head()"
   ]
  },
  {
   "cell_type": "code",
   "execution_count": 4,
   "metadata": {},
   "outputs": [],
   "source": [
    "sparse_counts = scipy.sparse.csr_matrix(tdm)\n",
    "corpus = matutils.Sparse2Corpus(sparse_counts)"
   ]
  },
  {
   "cell_type": "code",
   "execution_count": 5,
   "metadata": {},
   "outputs": [],
   "source": [
    "cv = pickle.load(open(\"pickles/ignitiscv_stop.pkl\", \"rb\"))\n",
    "id2word = dict((v, k) for k, v in cv.vocabulary_.items())"
   ]
  },
  {
   "cell_type": "code",
   "execution_count": 6,
   "metadata": {},
   "outputs": [
    {
     "data": {
      "text/plain": [
       "[(0,\n",
       "  '0.009*\"june\" + 0.007*\"ab\" + 0.007*\"yes\" + 0.006*\"board\" + 0.005*\"shares\" + 0.004*\"code\" + 0.004*\"total\" + 0.004*\"companys\" + 0.004*\"supervisory\" + 0.004*\"energy\"'),\n",
       " (1,\n",
       "  '0.007*\"board\" + 0.006*\"ab\" + 0.006*\"companys\" + 0.005*\"non\" + 0.005*\"income\" + 0.005*\"total\" + 0.005*\"customers\" + 0.005*\"revenue\" + 0.005*\"generation\" + 0.005*\"expenses\"')]"
      ]
     },
     "execution_count": 6,
     "metadata": {},
     "output_type": "execute_result"
    }
   ],
   "source": [
    "lda = models.LdaModel(corpus=corpus, id2word=id2word, num_topics=2, passes=10)\n",
    "lda.print_topics()"
   ]
  },
  {
   "cell_type": "code",
   "execution_count": 7,
   "metadata": {},
   "outputs": [
    {
     "data": {
      "text/plain": [
       "[(0,\n",
       "  '0.008*\"september\" + 0.007*\"ab\" + 0.007*\"companys\" + 0.006*\"months\" + 0.005*\"consolidated\" + 0.005*\"expenses\" + 0.005*\"non\" + 0.005*\"income\" + 0.005*\"https\" + 0.005*\"shares\"'),\n",
       " (1,\n",
       "  '0.009*\"board\" + 0.006*\"june\" + 0.006*\"ab\" + 0.005*\"report\" + 0.005*\"generation\" + 0.005*\"total\" + 0.005*\"customers\" + 0.005*\"companys\" + 0.005*\"non\" + 0.005*\"energy\"'),\n",
       " (2,\n",
       "  '0.001*\"board\" + 0.001*\"related\" + 0.001*\"ab\" + 0.001*\"companys\" + 0.001*\"customers\" + 0.001*\"june\" + 0.001*\"shares\" + 0.001*\"ebitda\" + 0.001*\"expenses\" + 0.001*\"energy\"')]"
      ]
     },
     "execution_count": 7,
     "metadata": {},
     "output_type": "execute_result"
    }
   ],
   "source": [
    "# LDA for num_topics = 3\n",
    "lda = models.LdaModel(corpus=corpus, id2word=id2word, num_topics=3, passes=10)\n",
    "lda.print_topics()"
   ]
  },
  {
   "cell_type": "code",
   "execution_count": 8,
   "metadata": {},
   "outputs": [
    {
     "data": {
      "text/plain": [
       "[(0,\n",
       "  '0.010*\"september\" + 0.008*\"companys\" + 0.008*\"ab\" + 0.006*\"months\" + 0.006*\"https\" + 0.005*\"non\" + 0.005*\"shares\" + 0.005*\"income\" + 0.005*\"en\" + 0.005*\"expenses\"'),\n",
       " (1,\n",
       "  '0.009*\"board\" + 0.006*\"revenue\" + 0.006*\"generation\" + 0.006*\"companys\" + 0.005*\"customers\" + 0.005*\"apm\" + 0.005*\"non\" + 0.005*\"income\" + 0.005*\"march\" + 0.005*\"member\"'),\n",
       " (2,\n",
       "  '0.008*\"board\" + 0.008*\"june\" + 0.007*\"ab\" + 0.005*\"total\" + 0.005*\"energy\" + 0.005*\"report\" + 0.005*\"yes\" + 0.005*\"shares\" + 0.005*\"customers\" + 0.005*\"activities\"'),\n",
       " (3,\n",
       "  '0.002*\"board\" + 0.002*\"ab\" + 0.001*\"companys\" + 0.001*\"customers\" + 0.001*\"total\" + 0.001*\"june\" + 0.001*\"business\" + 0.001*\"generation\" + 0.001*\"revenue\" + 0.001*\"member\"')]"
      ]
     },
     "execution_count": 8,
     "metadata": {},
     "output_type": "execute_result"
    }
   ],
   "source": [
    "# LDA for num_topics = 4\n",
    "lda = models.LdaModel(corpus=corpus, id2word=id2word, num_topics=4, passes=10)\n",
    "lda.print_topics()"
   ]
  },
  {
   "cell_type": "code",
   "execution_count": 9,
   "metadata": {},
   "outputs": [],
   "source": [
    "# Let's create a function to pull out nouns from a string of text\n",
    "from nltk import word_tokenize, pos_tag\n",
    "\n",
    "def nouns(text):\n",
    "    '''Given a string of text, tokenize the text and pull out only the nouns.'''\n",
    "    is_noun = lambda pos: pos[:2] == 'NN'\n",
    "    tokenized = word_tokenize(text)\n",
    "    all_nouns = [word for (word, pos) in pos_tag(tokenized) if is_noun(pos)] \n",
    "    return ' '.join(all_nouns)"
   ]
  },
  {
   "cell_type": "code",
   "execution_count": 10,
   "metadata": {},
   "outputs": [
    {
     "data": {
      "text/html": [
       "<div>\n",
       "<style scoped>\n",
       "    .dataframe tbody tr th:only-of-type {\n",
       "        vertical-align: middle;\n",
       "    }\n",
       "\n",
       "    .dataframe tbody tr th {\n",
       "        vertical-align: top;\n",
       "    }\n",
       "\n",
       "    .dataframe thead th {\n",
       "        text-align: right;\n",
       "    }\n",
       "</style>\n",
       "<table border=\"1\" class=\"dataframe\">\n",
       "  <thead>\n",
       "    <tr style=\"text-align: right;\">\n",
       "      <th></th>\n",
       "      <th>text</th>\n",
       "    </tr>\n",
       "  </thead>\n",
       "  <tbody>\n",
       "    <tr>\n",
       "      <th>ignitis2020_q1_en_eur_con_ias.txt</th>\n",
       "      <td>interim report consolidated interim report for...</td>\n",
       "    </tr>\n",
       "    <tr>\n",
       "      <th>ignitis2020_q2_en_eur_con_ias.txt</th>\n",
       "      <td>interim report consolidated interim report for...</td>\n",
       "    </tr>\n",
       "    <tr>\n",
       "      <th>ignitis2020_q2_en_eur_con_ias_00.txt</th>\n",
       "      <td>interim report consolidated interim report for...</td>\n",
       "    </tr>\n",
       "    <tr>\n",
       "      <th>ignitis2020_q3_en_eur_con_ias.txt</th>\n",
       "      <td>interim report first nine months consolidated ...</td>\n",
       "    </tr>\n",
       "  </tbody>\n",
       "</table>\n",
       "</div>"
      ],
      "text/plain": [
       "                                                                                   text\n",
       "ignitis2020_q1_en_eur_con_ias.txt     interim report consolidated interim report for...\n",
       "ignitis2020_q2_en_eur_con_ias.txt     interim report consolidated interim report for...\n",
       "ignitis2020_q2_en_eur_con_ias_00.txt  interim report consolidated interim report for...\n",
       "ignitis2020_q3_en_eur_con_ias.txt     interim report first nine months consolidated ..."
      ]
     },
     "execution_count": 10,
     "metadata": {},
     "output_type": "execute_result"
    }
   ],
   "source": [
    "# Read in the cleaned data, before the CountVectorizer step\n",
    "data_clean = pd.read_pickle('pickles/ignitisdata_clean.pkl')\n",
    "data_clean"
   ]
  },
  {
   "cell_type": "code",
   "execution_count": 11,
   "metadata": {},
   "outputs": [
    {
     "data": {
      "text/html": [
       "<div>\n",
       "<style scoped>\n",
       "    .dataframe tbody tr th:only-of-type {\n",
       "        vertical-align: middle;\n",
       "    }\n",
       "\n",
       "    .dataframe tbody tr th {\n",
       "        vertical-align: top;\n",
       "    }\n",
       "\n",
       "    .dataframe thead th {\n",
       "        text-align: right;\n",
       "    }\n",
       "</style>\n",
       "<table border=\"1\" class=\"dataframe\">\n",
       "  <thead>\n",
       "    <tr style=\"text-align: right;\">\n",
       "      <th></th>\n",
       "      <th>text</th>\n",
       "    </tr>\n",
       "  </thead>\n",
       "  <tbody>\n",
       "    <tr>\n",
       "      <th>ignitis2020_q1_en_eur_con_ias.txt</th>\n",
       "      <td>report report quarter statements period march ...</td>\n",
       "    </tr>\n",
       "    <tr>\n",
       "      <th>ignitis2020_q2_en_eur_con_ias.txt</th>\n",
       "      <td>report report year statements period june acco...</td>\n",
       "    </tr>\n",
       "    <tr>\n",
       "      <th>ignitis2020_q2_en_eur_con_ias_00.txt</th>\n",
       "      <td>report report year statements period june acco...</td>\n",
       "    </tr>\n",
       "    <tr>\n",
       "      <th>ignitis2020_q3_en_eur_con_ias.txt</th>\n",
       "      <td>report months report statements period accorda...</td>\n",
       "    </tr>\n",
       "  </tbody>\n",
       "</table>\n",
       "</div>"
      ],
      "text/plain": [
       "                                                                                   text\n",
       "ignitis2020_q1_en_eur_con_ias.txt     report report quarter statements period march ...\n",
       "ignitis2020_q2_en_eur_con_ias.txt     report report year statements period june acco...\n",
       "ignitis2020_q2_en_eur_con_ias_00.txt  report report year statements period june acco...\n",
       "ignitis2020_q3_en_eur_con_ias.txt     report months report statements period accorda..."
      ]
     },
     "execution_count": 11,
     "metadata": {},
     "output_type": "execute_result"
    }
   ],
   "source": [
    "\n",
    "# Apply the nouns function to the transcripts to filter only on nouns\n",
    "data_nouns = pd.DataFrame(data_clean.text.apply(nouns))\n",
    "data_nouns"
   ]
  },
  {
   "cell_type": "code",
   "execution_count": 16,
   "metadata": {},
   "outputs": [
    {
     "data": {
      "text/html": [
       "<div>\n",
       "<style scoped>\n",
       "    .dataframe tbody tr th:only-of-type {\n",
       "        vertical-align: middle;\n",
       "    }\n",
       "\n",
       "    .dataframe tbody tr th {\n",
       "        vertical-align: top;\n",
       "    }\n",
       "\n",
       "    .dataframe thead th {\n",
       "        text-align: right;\n",
       "    }\n",
       "</style>\n",
       "<table border=\"1\" class=\"dataframe\">\n",
       "  <thead>\n",
       "    <tr style=\"text-align: right;\">\n",
       "      <th></th>\n",
       "      <th>abbreviation</th>\n",
       "      <th>ability</th>\n",
       "      <th>access</th>\n",
       "      <th>accident</th>\n",
       "      <th>accidents</th>\n",
       "      <th>accompanying</th>\n",
       "      <th>accordance</th>\n",
       "      <th>account</th>\n",
       "      <th>accountability</th>\n",
       "      <th>accountants</th>\n",
       "      <th>...</th>\n",
       "      <th>workforce</th>\n",
       "      <th>working</th>\n",
       "      <th>works</th>\n",
       "      <th>world</th>\n",
       "      <th>worth</th>\n",
       "      <th>year</th>\n",
       "      <th>years</th>\n",
       "      <th>yield</th>\n",
       "      <th>zone</th>\n",
       "      <th>zones</th>\n",
       "    </tr>\n",
       "  </thead>\n",
       "  <tbody>\n",
       "    <tr>\n",
       "      <th>ignitis2020_q1_en_eur_con_ias.txt</th>\n",
       "      <td>1</td>\n",
       "      <td>0</td>\n",
       "      <td>1</td>\n",
       "      <td>1</td>\n",
       "      <td>1</td>\n",
       "      <td>1</td>\n",
       "      <td>14</td>\n",
       "      <td>7</td>\n",
       "      <td>0</td>\n",
       "      <td>0</td>\n",
       "      <td>...</td>\n",
       "      <td>0</td>\n",
       "      <td>1</td>\n",
       "      <td>3</td>\n",
       "      <td>4</td>\n",
       "      <td>0</td>\n",
       "      <td>36</td>\n",
       "      <td>14</td>\n",
       "      <td>1</td>\n",
       "      <td>1</td>\n",
       "      <td>2</td>\n",
       "    </tr>\n",
       "    <tr>\n",
       "      <th>ignitis2020_q2_en_eur_con_ias.txt</th>\n",
       "      <td>1</td>\n",
       "      <td>2</td>\n",
       "      <td>1</td>\n",
       "      <td>0</td>\n",
       "      <td>0</td>\n",
       "      <td>1</td>\n",
       "      <td>23</td>\n",
       "      <td>5</td>\n",
       "      <td>0</td>\n",
       "      <td>2</td>\n",
       "      <td>...</td>\n",
       "      <td>4</td>\n",
       "      <td>1</td>\n",
       "      <td>4</td>\n",
       "      <td>4</td>\n",
       "      <td>1</td>\n",
       "      <td>55</td>\n",
       "      <td>26</td>\n",
       "      <td>1</td>\n",
       "      <td>1</td>\n",
       "      <td>0</td>\n",
       "    </tr>\n",
       "    <tr>\n",
       "      <th>ignitis2020_q2_en_eur_con_ias_00.txt</th>\n",
       "      <td>1</td>\n",
       "      <td>0</td>\n",
       "      <td>1</td>\n",
       "      <td>2</td>\n",
       "      <td>0</td>\n",
       "      <td>1</td>\n",
       "      <td>22</td>\n",
       "      <td>5</td>\n",
       "      <td>0</td>\n",
       "      <td>0</td>\n",
       "      <td>...</td>\n",
       "      <td>4</td>\n",
       "      <td>1</td>\n",
       "      <td>4</td>\n",
       "      <td>4</td>\n",
       "      <td>1</td>\n",
       "      <td>122</td>\n",
       "      <td>29</td>\n",
       "      <td>1</td>\n",
       "      <td>2</td>\n",
       "      <td>14</td>\n",
       "    </tr>\n",
       "    <tr>\n",
       "      <th>ignitis2020_q3_en_eur_con_ias.txt</th>\n",
       "      <td>0</td>\n",
       "      <td>0</td>\n",
       "      <td>0</td>\n",
       "      <td>2</td>\n",
       "      <td>0</td>\n",
       "      <td>1</td>\n",
       "      <td>21</td>\n",
       "      <td>12</td>\n",
       "      <td>1</td>\n",
       "      <td>0</td>\n",
       "      <td>...</td>\n",
       "      <td>2</td>\n",
       "      <td>2</td>\n",
       "      <td>5</td>\n",
       "      <td>3</td>\n",
       "      <td>0</td>\n",
       "      <td>70</td>\n",
       "      <td>29</td>\n",
       "      <td>1</td>\n",
       "      <td>1</td>\n",
       "      <td>13</td>\n",
       "    </tr>\n",
       "  </tbody>\n",
       "</table>\n",
       "<p>4 rows × 2025 columns</p>\n",
       "</div>"
      ],
      "text/plain": [
       "                                      abbreviation  ability  access  accident  \\\n",
       "ignitis2020_q1_en_eur_con_ias.txt                1        0       1         1   \n",
       "ignitis2020_q2_en_eur_con_ias.txt                1        2       1         0   \n",
       "ignitis2020_q2_en_eur_con_ias_00.txt             1        0       1         2   \n",
       "ignitis2020_q3_en_eur_con_ias.txt                0        0       0         2   \n",
       "\n",
       "                                      accidents  accompanying  accordance  \\\n",
       "ignitis2020_q1_en_eur_con_ias.txt             1             1          14   \n",
       "ignitis2020_q2_en_eur_con_ias.txt             0             1          23   \n",
       "ignitis2020_q2_en_eur_con_ias_00.txt          0             1          22   \n",
       "ignitis2020_q3_en_eur_con_ias.txt             0             1          21   \n",
       "\n",
       "                                      account  accountability  accountants  \\\n",
       "ignitis2020_q1_en_eur_con_ias.txt           7               0            0   \n",
       "ignitis2020_q2_en_eur_con_ias.txt           5               0            2   \n",
       "ignitis2020_q2_en_eur_con_ias_00.txt        5               0            0   \n",
       "ignitis2020_q3_en_eur_con_ias.txt          12               1            0   \n",
       "\n",
       "                                      ...  workforce  working  works  world  \\\n",
       "ignitis2020_q1_en_eur_con_ias.txt     ...          0        1      3      4   \n",
       "ignitis2020_q2_en_eur_con_ias.txt     ...          4        1      4      4   \n",
       "ignitis2020_q2_en_eur_con_ias_00.txt  ...          4        1      4      4   \n",
       "ignitis2020_q3_en_eur_con_ias.txt     ...          2        2      5      3   \n",
       "\n",
       "                                      worth  year  years  yield  zone  zones  \n",
       "ignitis2020_q1_en_eur_con_ias.txt         0    36     14      1     1      2  \n",
       "ignitis2020_q2_en_eur_con_ias.txt         1    55     26      1     1      0  \n",
       "ignitis2020_q2_en_eur_con_ias_00.txt      1   122     29      1     2     14  \n",
       "ignitis2020_q3_en_eur_con_ias.txt         0    70     29      1     1     13  \n",
       "\n",
       "[4 rows x 2025 columns]"
      ]
     },
     "execution_count": 16,
     "metadata": {},
     "output_type": "execute_result"
    }
   ],
   "source": [
    "# Create a new document-term matrix using only nouns\n",
    "from sklearn.feature_extraction import text\n",
    "from sklearn.feature_extraction.text import CountVectorizer\n",
    "\n",
    "# Re-add the additional stop words since we are recreating the document-term matrix\n",
    "add_stop_words = ['www','interim','report','statements','period','ab','abbr','yes','žvejų','žaneta','žilvista','živilė','šalys','šarūnas','žukauskas','žūb','įmonės','świnoujście','šiaulių']\n",
    "stop_words = text.ENGLISH_STOP_WORDS.union(add_stop_words)\n",
    "\n",
    "# Recreate a document-term matrix with only nouns\n",
    "cvn = CountVectorizer(stop_words=stop_words)\n",
    "data_cvn = cvn.fit_transform(data_nouns.text)\n",
    "data_dtmn = pd.DataFrame(data_cvn.toarray(), columns=cvn.get_feature_names())\n",
    "data_dtmn.index = data_nouns.index\n",
    "data_dtmn"
   ]
  },
  {
   "cell_type": "code",
   "execution_count": 17,
   "metadata": {},
   "outputs": [],
   "source": [
    "# Create the gensim corpus\n",
    "corpusn = matutils.Sparse2Corpus(scipy.sparse.csr_matrix(data_dtmn.transpose()))\n",
    "\n",
    "# Create the vocabulary dictionary\n",
    "id2wordn = dict((v, k) for k, v in cvn.vocabulary_.items())"
   ]
  },
  {
   "cell_type": "code",
   "execution_count": 18,
   "metadata": {},
   "outputs": [
    {
     "data": {
      "text/plain": [
       "[(0,\n",
       "  '0.023*\"company\" + 0.020*\"group\" + 0.016*\"electricity\" + 0.015*\"ignitis\" + 0.010*\"gas\" + 0.010*\"board\" + 0.010*\"eur\" + 0.009*\"management\" + 0.008*\"assets\" + 0.008*\"lithuania\"'),\n",
       " (1,\n",
       "  '0.009*\"company\" + 0.006*\"group\" + 0.005*\"electricity\" + 0.003*\"management\" + 0.003*\"gas\" + 0.003*\"board\" + 0.003*\"eur\" + 0.003*\"ignitis\" + 0.003*\"energy\" + 0.003*\"member\"')]"
      ]
     },
     "execution_count": 18,
     "metadata": {},
     "output_type": "execute_result"
    }
   ],
   "source": [
    "# Let's start with 2 topics\n",
    "ldan = models.LdaModel(corpus=corpusn, num_topics=2, id2word=id2wordn, passes=10)\n",
    "ldan.print_topics()"
   ]
  },
  {
   "cell_type": "code",
   "execution_count": 19,
   "metadata": {},
   "outputs": [
    {
     "data": {
      "text/plain": [
       "[(0,\n",
       "  '0.017*\"company\" + 0.015*\"group\" + 0.011*\"electricity\" + 0.007*\"gas\" + 0.006*\"ignitis\" + 0.006*\"vilnius\" + 0.005*\"assets\" + 0.005*\"generation\" + 0.005*\"eur\" + 0.005*\"board\"'),\n",
       " (1,\n",
       "  '0.023*\"company\" + 0.020*\"group\" + 0.016*\"electricity\" + 0.015*\"ignitis\" + 0.010*\"gas\" + 0.010*\"board\" + 0.010*\"eur\" + 0.009*\"management\" + 0.008*\"assets\" + 0.008*\"lithuania\"'),\n",
       " (2,\n",
       "  '0.003*\"company\" + 0.003*\"electricity\" + 0.003*\"group\" + 0.002*\"ignitis\" + 0.002*\"board\" + 0.002*\"lithuania\" + 0.002*\"eur\" + 0.001*\"gas\" + 0.001*\"investments\" + 0.001*\"business\"')]"
      ]
     },
     "execution_count": 19,
     "metadata": {},
     "output_type": "execute_result"
    }
   ],
   "source": [
    "# Let's try topics = 3\n",
    "ldan = models.LdaModel(corpus=corpusn, num_topics=3, id2word=id2wordn, passes=10)\n",
    "ldan.print_topics()"
   ]
  },
  {
   "cell_type": "code",
   "execution_count": 20,
   "metadata": {},
   "outputs": [
    {
     "data": {
      "text/plain": [
       "[(0,\n",
       "  '0.019*\"group\" + 0.016*\"september\" + 0.015*\"months\" + 0.012*\"electricity\" + 0.012*\"company\" + 0.012*\"ignitis\" + 0.011*\"qtr\" + 0.009*\"assets\" + 0.009*\"statistics\" + 0.008*\"cash\"'),\n",
       " (1,\n",
       "  '0.004*\"group\" + 0.003*\"company\" + 0.003*\"electricity\" + 0.002*\"ignitis\" + 0.002*\"cash\" + 0.002*\"eur\" + 0.002*\"assets\" + 0.002*\"gas\" + 0.002*\"management\" + 0.002*\"board\"'),\n",
       " (2,\n",
       "  '0.024*\"company\" + 0.022*\"group\" + 0.017*\"electricity\" + 0.015*\"ignitis\" + 0.012*\"gas\" + 0.012*\"board\" + 0.010*\"eur\" + 0.009*\"management\" + 0.008*\"generation\" + 0.008*\"revenue\"'),\n",
       " (3,\n",
       "  '0.024*\"company\" + 0.019*\"group\" + 0.015*\"electricity\" + 0.014*\"ignitis\" + 0.010*\"gas\" + 0.009*\"eur\" + 0.009*\"board\" + 0.009*\"management\" + 0.009*\"lithuania\" + 0.008*\"assets\"')]"
      ]
     },
     "execution_count": 20,
     "metadata": {},
     "output_type": "execute_result"
    }
   ],
   "source": [
    "\n",
    "# Let's try 4 topics\n",
    "ldan = models.LdaModel(corpus=corpusn, num_topics=4, id2word=id2wordn, passes=10)\n",
    "ldan.print_topics()"
   ]
  },
  {
   "cell_type": "code",
   "execution_count": 21,
   "metadata": {},
   "outputs": [],
   "source": [
    "def nouns_adj(text):\n",
    "    '''Given a string of text, tokenize the text and pull out only the nouns and adjectives.'''\n",
    "    is_noun_adj = lambda pos: pos[:2] == 'NN' or pos[:2] == 'JJ'\n",
    "    tokenized = word_tokenize(text)\n",
    "    nouns_adj = [word for (word, pos) in pos_tag(tokenized) if is_noun_adj(pos)] \n",
    "    return ' '.join(nouns_adj)"
   ]
  },
  {
   "cell_type": "code",
   "execution_count": 22,
   "metadata": {},
   "outputs": [
    {
     "data": {
      "text/html": [
       "<div>\n",
       "<style scoped>\n",
       "    .dataframe tbody tr th:only-of-type {\n",
       "        vertical-align: middle;\n",
       "    }\n",
       "\n",
       "    .dataframe tbody tr th {\n",
       "        vertical-align: top;\n",
       "    }\n",
       "\n",
       "    .dataframe thead th {\n",
       "        text-align: right;\n",
       "    }\n",
       "</style>\n",
       "<table border=\"1\" class=\"dataframe\">\n",
       "  <thead>\n",
       "    <tr style=\"text-align: right;\">\n",
       "      <th></th>\n",
       "      <th>text</th>\n",
       "    </tr>\n",
       "  </thead>\n",
       "  <tbody>\n",
       "    <tr>\n",
       "      <th>ignitis2020_q1_en_eur_con_ias.txt</th>\n",
       "      <td>interim report interim report first quarter fi...</td>\n",
       "    </tr>\n",
       "    <tr>\n",
       "      <th>ignitis2020_q2_en_eur_con_ias.txt</th>\n",
       "      <td>interim report interim report first half year ...</td>\n",
       "    </tr>\n",
       "    <tr>\n",
       "      <th>ignitis2020_q2_en_eur_con_ias_00.txt</th>\n",
       "      <td>interim report interim report first half year ...</td>\n",
       "    </tr>\n",
       "    <tr>\n",
       "      <th>ignitis2020_q3_en_eur_con_ias.txt</th>\n",
       "      <td>interim report months interim report consolida...</td>\n",
       "    </tr>\n",
       "  </tbody>\n",
       "</table>\n",
       "</div>"
      ],
      "text/plain": [
       "                                                                                   text\n",
       "ignitis2020_q1_en_eur_con_ias.txt     interim report interim report first quarter fi...\n",
       "ignitis2020_q2_en_eur_con_ias.txt     interim report interim report first half year ...\n",
       "ignitis2020_q2_en_eur_con_ias_00.txt  interim report interim report first half year ...\n",
       "ignitis2020_q3_en_eur_con_ias.txt     interim report months interim report consolida..."
      ]
     },
     "execution_count": 22,
     "metadata": {},
     "output_type": "execute_result"
    }
   ],
   "source": [
    "# Apply the nouns function to the transcripts to filter only on nouns\n",
    "data_nouns_adj = pd.DataFrame(data_clean.text.apply(nouns_adj))\n",
    "data_nouns_adj"
   ]
  },
  {
   "cell_type": "code",
   "execution_count": 24,
   "metadata": {},
   "outputs": [
    {
     "data": {
      "text/html": [
       "<div>\n",
       "<style scoped>\n",
       "    .dataframe tbody tr th:only-of-type {\n",
       "        vertical-align: middle;\n",
       "    }\n",
       "\n",
       "    .dataframe tbody tr th {\n",
       "        vertical-align: top;\n",
       "    }\n",
       "\n",
       "    .dataframe thead th {\n",
       "        text-align: right;\n",
       "    }\n",
       "</style>\n",
       "<table border=\"1\" class=\"dataframe\">\n",
       "  <thead>\n",
       "    <tr style=\"text-align: right;\">\n",
       "      <th></th>\n",
       "      <th>abbreviation</th>\n",
       "      <th>ability</th>\n",
       "      <th>abovementioned</th>\n",
       "      <th>accelerated</th>\n",
       "      <th>access</th>\n",
       "      <th>accessible</th>\n",
       "      <th>accident</th>\n",
       "      <th>accidents</th>\n",
       "      <th>accountability</th>\n",
       "      <th>accountable</th>\n",
       "      <th>...</th>\n",
       "      <th>winter</th>\n",
       "      <th>withdrawn</th>\n",
       "      <th>women</th>\n",
       "      <th>won</th>\n",
       "      <th>wording</th>\n",
       "      <th>worker</th>\n",
       "      <th>workforce</th>\n",
       "      <th>worth</th>\n",
       "      <th>yearly</th>\n",
       "      <th>zones</th>\n",
       "    </tr>\n",
       "  </thead>\n",
       "  <tbody>\n",
       "    <tr>\n",
       "      <th>ignitis2020_q1_en_eur_con_ias.txt</th>\n",
       "      <td>1</td>\n",
       "      <td>0</td>\n",
       "      <td>0</td>\n",
       "      <td>1</td>\n",
       "      <td>1</td>\n",
       "      <td>0</td>\n",
       "      <td>1</td>\n",
       "      <td>1</td>\n",
       "      <td>0</td>\n",
       "      <td>0</td>\n",
       "      <td>...</td>\n",
       "      <td>1</td>\n",
       "      <td>1</td>\n",
       "      <td>0</td>\n",
       "      <td>0</td>\n",
       "      <td>0</td>\n",
       "      <td>0</td>\n",
       "      <td>0</td>\n",
       "      <td>0</td>\n",
       "      <td>0</td>\n",
       "      <td>2</td>\n",
       "    </tr>\n",
       "    <tr>\n",
       "      <th>ignitis2020_q2_en_eur_con_ias.txt</th>\n",
       "      <td>1</td>\n",
       "      <td>2</td>\n",
       "      <td>0</td>\n",
       "      <td>0</td>\n",
       "      <td>1</td>\n",
       "      <td>0</td>\n",
       "      <td>0</td>\n",
       "      <td>0</td>\n",
       "      <td>0</td>\n",
       "      <td>0</td>\n",
       "      <td>...</td>\n",
       "      <td>0</td>\n",
       "      <td>1</td>\n",
       "      <td>22</td>\n",
       "      <td>1</td>\n",
       "      <td>0</td>\n",
       "      <td>2</td>\n",
       "      <td>4</td>\n",
       "      <td>1</td>\n",
       "      <td>0</td>\n",
       "      <td>0</td>\n",
       "    </tr>\n",
       "    <tr>\n",
       "      <th>ignitis2020_q2_en_eur_con_ias_00.txt</th>\n",
       "      <td>1</td>\n",
       "      <td>0</td>\n",
       "      <td>1</td>\n",
       "      <td>0</td>\n",
       "      <td>1</td>\n",
       "      <td>0</td>\n",
       "      <td>2</td>\n",
       "      <td>0</td>\n",
       "      <td>0</td>\n",
       "      <td>0</td>\n",
       "      <td>...</td>\n",
       "      <td>0</td>\n",
       "      <td>1</td>\n",
       "      <td>22</td>\n",
       "      <td>1</td>\n",
       "      <td>1</td>\n",
       "      <td>2</td>\n",
       "      <td>4</td>\n",
       "      <td>1</td>\n",
       "      <td>0</td>\n",
       "      <td>14</td>\n",
       "    </tr>\n",
       "    <tr>\n",
       "      <th>ignitis2020_q3_en_eur_con_ias.txt</th>\n",
       "      <td>0</td>\n",
       "      <td>0</td>\n",
       "      <td>1</td>\n",
       "      <td>0</td>\n",
       "      <td>0</td>\n",
       "      <td>1</td>\n",
       "      <td>2</td>\n",
       "      <td>0</td>\n",
       "      <td>1</td>\n",
       "      <td>1</td>\n",
       "      <td>...</td>\n",
       "      <td>0</td>\n",
       "      <td>0</td>\n",
       "      <td>2</td>\n",
       "      <td>0</td>\n",
       "      <td>1</td>\n",
       "      <td>0</td>\n",
       "      <td>2</td>\n",
       "      <td>0</td>\n",
       "      <td>1</td>\n",
       "      <td>13</td>\n",
       "    </tr>\n",
       "  </tbody>\n",
       "</table>\n",
       "<p>4 rows × 1199 columns</p>\n",
       "</div>"
      ],
      "text/plain": [
       "                                      abbreviation  ability  abovementioned  \\\n",
       "ignitis2020_q1_en_eur_con_ias.txt                1        0               0   \n",
       "ignitis2020_q2_en_eur_con_ias.txt                1        2               0   \n",
       "ignitis2020_q2_en_eur_con_ias_00.txt             1        0               1   \n",
       "ignitis2020_q3_en_eur_con_ias.txt                0        0               1   \n",
       "\n",
       "                                      accelerated  access  accessible  \\\n",
       "ignitis2020_q1_en_eur_con_ias.txt               1       1           0   \n",
       "ignitis2020_q2_en_eur_con_ias.txt               0       1           0   \n",
       "ignitis2020_q2_en_eur_con_ias_00.txt            0       1           0   \n",
       "ignitis2020_q3_en_eur_con_ias.txt               0       0           1   \n",
       "\n",
       "                                      accident  accidents  accountability  \\\n",
       "ignitis2020_q1_en_eur_con_ias.txt            1          1               0   \n",
       "ignitis2020_q2_en_eur_con_ias.txt            0          0               0   \n",
       "ignitis2020_q2_en_eur_con_ias_00.txt         2          0               0   \n",
       "ignitis2020_q3_en_eur_con_ias.txt            2          0               1   \n",
       "\n",
       "                                      accountable  ...  winter  withdrawn  \\\n",
       "ignitis2020_q1_en_eur_con_ias.txt               0  ...       1          1   \n",
       "ignitis2020_q2_en_eur_con_ias.txt               0  ...       0          1   \n",
       "ignitis2020_q2_en_eur_con_ias_00.txt            0  ...       0          1   \n",
       "ignitis2020_q3_en_eur_con_ias.txt               1  ...       0          0   \n",
       "\n",
       "                                      women  won  wording  worker  workforce  \\\n",
       "ignitis2020_q1_en_eur_con_ias.txt         0    0        0       0          0   \n",
       "ignitis2020_q2_en_eur_con_ias.txt        22    1        0       2          4   \n",
       "ignitis2020_q2_en_eur_con_ias_00.txt     22    1        1       2          4   \n",
       "ignitis2020_q3_en_eur_con_ias.txt         2    0        1       0          2   \n",
       "\n",
       "                                      worth  yearly  zones  \n",
       "ignitis2020_q1_en_eur_con_ias.txt         0       0      2  \n",
       "ignitis2020_q2_en_eur_con_ias.txt         1       0      0  \n",
       "ignitis2020_q2_en_eur_con_ias_00.txt      1       0     14  \n",
       "ignitis2020_q3_en_eur_con_ias.txt         0       1     13  \n",
       "\n",
       "[4 rows x 1199 columns]"
      ]
     },
     "execution_count": 24,
     "metadata": {},
     "output_type": "execute_result"
    }
   ],
   "source": [
    "\n",
    "# Create a new document-term matrix using only nouns and adjectives, also remove common words with max_df\n",
    "cvna = CountVectorizer(stop_words=stop_words, max_df=.8)\n",
    "data_cvna = cvna.fit_transform(data_nouns_adj.text)\n",
    "data_dtmna = pd.DataFrame(data_cvna.toarray(), columns=cvna.get_feature_names())\n",
    "data_dtmna.index = data_nouns_adj.index\n",
    "data_dtmna"
   ]
  },
  {
   "cell_type": "code",
   "execution_count": 25,
   "metadata": {},
   "outputs": [],
   "source": [
    "# Create the gensim corpus\n",
    "corpusna = matutils.Sparse2Corpus(scipy.sparse.csr_matrix(data_dtmna.transpose()))\n",
    "\n",
    "# Create the vocabulary dictionary\n",
    "id2wordna = dict((v, k) for k, v in cvna.vocabulary_.items())"
   ]
  },
  {
   "cell_type": "code",
   "execution_count": 26,
   "metadata": {},
   "outputs": [
    {
     "data": {
      "text/plain": [
       "[(0,\n",
       "  '0.038*\"qtr\" + 0.013*\"reclassifications\" + 0.013*\"land\" + 0.010*\"methodology\" + 0.008*\"discount\" + 0.008*\"servitudes\" + 0.007*\"methods\" + 0.007*\"november\" + 0.007*\"sustainability\" + 0.006*\"coefficient\"'),\n",
       " (1,\n",
       "  '0.027*\"half\" + 0.013*\"gri\" + 0.011*\"women\" + 0.011*\"men\" + 0.010*\"ungc\" + 0.007*\"land\" + 0.007*\"reclassifications\" + 0.007*\"sasb\" + 0.007*\"sdg\" + 0.007*\"claim\"')]"
      ]
     },
     "execution_count": 26,
     "metadata": {},
     "output_type": "execute_result"
    }
   ],
   "source": [
    "# Let's start with 2 topics\n",
    "ldana = models.LdaModel(corpus=corpusna, num_topics=2, id2word=id2wordna, passes=10)\n",
    "ldana.print_topics()"
   ]
  },
  {
   "cell_type": "code",
   "execution_count": 27,
   "metadata": {},
   "outputs": [
    {
     "data": {
      "text/plain": [
       "[(0,\n",
       "  '0.041*\"qtr\" + 0.014*\"reclassifications\" + 0.014*\"land\" + 0.010*\"methodology\" + 0.008*\"servitudes\" + 0.008*\"discount\" + 0.008*\"methods\" + 0.008*\"november\" + 0.007*\"sustainability\" + 0.007*\"coefficient\"'),\n",
       " (1,\n",
       "  '0.028*\"half\" + 0.014*\"gri\" + 0.012*\"women\" + 0.011*\"men\" + 0.010*\"ungc\" + 0.008*\"sasb\" + 0.008*\"sdg\" + 0.007*\"land\" + 0.007*\"reclassifications\" + 0.007*\"claim\"'),\n",
       " (2,\n",
       "  '0.001*\"half\" + 0.001*\"land\" + 0.001*\"qtr\" + 0.001*\"reclassifications\" + 0.001*\"gri\" + 0.001*\"ungc\" + 0.001*\"men\" + 0.001*\"women\" + 0.001*\"sustainability\" + 0.001*\"esg\"')]"
      ]
     },
     "execution_count": 27,
     "metadata": {},
     "output_type": "execute_result"
    }
   ],
   "source": [
    "# Let's try 3 topics\n",
    "ldana = models.LdaModel(corpus=corpusna, num_topics=3, id2word=id2wordna, passes=10)\n",
    "ldana.print_topics()"
   ]
  },
  {
   "cell_type": "code",
   "execution_count": 28,
   "metadata": {},
   "outputs": [
    {
     "data": {
      "text/plain": [
       "[(0,\n",
       "  '0.020*\"explanatory\" + 0.011*\"acquisitions\" + 0.011*\"corrections\" + 0.008*\"translation\" + 0.008*\"delays\" + 0.008*\"treatment\" + 0.006*\"condensed\" + 0.006*\"errors\" + 0.006*\"decline\" + 0.005*\"males\"'),\n",
       " (1,\n",
       "  '0.044*\"qtr\" + 0.015*\"reclassifications\" + 0.014*\"land\" + 0.011*\"methodology\" + 0.009*\"servitudes\" + 0.009*\"discount\" + 0.008*\"methods\" + 0.008*\"november\" + 0.008*\"sustainability\" + 0.007*\"subsequent\"'),\n",
       " (2,\n",
       "  '0.037*\"half\" + 0.014*\"land\" + 0.014*\"reclassifications\" + 0.013*\"gri\" + 0.011*\"women\" + 0.011*\"men\" + 0.010*\"methodology\" + 0.010*\"ungc\" + 0.010*\"captions\" + 0.009*\"table\"'),\n",
       " (3,\n",
       "  '0.023*\"half\" + 0.018*\"gri\" + 0.015*\"women\" + 0.014*\"men\" + 0.013*\"ungc\" + 0.013*\"condensed\" + 0.010*\"sdg\" + 0.010*\"sasb\" + 0.008*\"esg\" + 0.008*\"gj\"')]"
      ]
     },
     "execution_count": 28,
     "metadata": {},
     "output_type": "execute_result"
    }
   ],
   "source": [
    "# Let's try 4 topics\n",
    "ldana = models.LdaModel(corpus=corpusna, num_topics=4, id2word=id2wordna, passes=10)\n",
    "ldana.print_topics()"
   ]
  },
  {
   "cell_type": "code",
   "execution_count": 29,
   "metadata": {},
   "outputs": [
    {
     "data": {
      "text/plain": [
       "[(0,\n",
       "  '0.001*\"course\" + 0.001*\"partnership\" + 0.001*\"allocated\" + 0.001*\"smooth\" + 0.001*\"announced\" + 0.001*\"seat\" + 0.001*\"certificates\" + 0.001*\"half\" + 0.001*\"care\" + 0.001*\"geographical\"'),\n",
       " (1,\n",
       "  '0.020*\"explanatory\" + 0.011*\"corrections\" + 0.011*\"acquisitions\" + 0.008*\"treatment\" + 0.008*\"delays\" + 0.008*\"translation\" + 0.006*\"errors\" + 0.006*\"condensed\" + 0.006*\"decline\" + 0.005*\"owners\"'),\n",
       " (2,\n",
       "  '0.044*\"qtr\" + 0.015*\"reclassifications\" + 0.014*\"land\" + 0.011*\"methodology\" + 0.009*\"servitudes\" + 0.009*\"discount\" + 0.008*\"november\" + 0.008*\"methods\" + 0.008*\"sustainability\" + 0.007*\"calculation\"'),\n",
       " (3,\n",
       "  '0.034*\"half\" + 0.017*\"gri\" + 0.014*\"women\" + 0.013*\"men\" + 0.012*\"ungc\" + 0.009*\"sdg\" + 0.009*\"sasb\" + 0.009*\"land\" + 0.009*\"reclassifications\" + 0.008*\"claim\"')]"
      ]
     },
     "execution_count": 29,
     "metadata": {},
     "output_type": "execute_result"
    }
   ],
   "source": [
    "# Our final LDA model (for now)\n",
    "ldana = models.LdaModel(corpus=corpusna, num_topics=4, id2word=id2wordna, passes=80)\n",
    "ldana.print_topics()"
   ]
  },
  {
   "cell_type": "code",
   "execution_count": 30,
   "metadata": {},
   "outputs": [
    {
     "data": {
      "text/plain": [
       "[(1, 'ignitis2020_q1_en_eur_con_ias.txt'),\n",
       " (3, 'ignitis2020_q2_en_eur_con_ias.txt'),\n",
       " (3, 'ignitis2020_q2_en_eur_con_ias_00.txt'),\n",
       " (2, 'ignitis2020_q3_en_eur_con_ias.txt')]"
      ]
     },
     "execution_count": 30,
     "metadata": {},
     "output_type": "execute_result"
    }
   ],
   "source": [
    "corpus_transformed = ldana[corpusna]\n",
    "list(zip([a for [(a,b)] in corpus_transformed], data_dtmna.index))"
   ]
  },
  {
   "cell_type": "code",
   "execution_count": null,
   "metadata": {},
   "outputs": [],
   "source": []
  }
 ],
 "metadata": {
  "kernelspec": {
   "display_name": "Python 3",
   "language": "python",
   "name": "python3"
  },
  "language_info": {
   "codemirror_mode": {
    "name": "ipython",
    "version": 3
   },
   "file_extension": ".py",
   "mimetype": "text/x-python",
   "name": "python",
   "nbconvert_exporter": "python",
   "pygments_lexer": "ipython3",
   "version": "3.8.3"
  }
 },
 "nbformat": 4,
 "nbformat_minor": 4
}
