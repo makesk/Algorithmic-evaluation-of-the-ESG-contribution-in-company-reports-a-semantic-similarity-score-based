{
 "cells": [
  {
   "cell_type": "code",
   "execution_count": 1,
   "metadata": {},
   "outputs": [],
   "source": [
    "#Kraabime veebilehelt PDFid ja slaidiesitlused maha\n",
    "\n",
    "import os\n",
    "import requests\n",
    "from urllib.parse import urljoin\n",
    "from bs4 import BeautifulSoup\n",
    "#Tegin siia meetodi, mis võtab nasdaqbalticu lehelt siis ISIN koodi ja kuupäeva järgi kõik .pdf formaadis failid,\n",
    "#laeb need lokaalselt mulle alla.\n",
    "def fetch_pdfs(ISIN,date):\n",
    "    url = f\"https://nasdaqbaltic.com/statistics/en/instrument/{ISIN}/reports?date={date}\"\n",
    "    #If there is no such folder, the script will create one automatically\n",
    "    folder_location = r'C:\\Users\\marek.keskull\\webscraping'\n",
    "    if not os.path.exists(folder_location):os.mkdir(folder_location)\n",
    "\n",
    "    response = requests.get(url)\n",
    "    soup= BeautifulSoup(response.text, \"html.parser\")\n",
    "    tr = soup.find(\"tbody\")\n",
    "    pdf2020 = tr.find(\"tr\")\n",
    "    \n",
    "    for link in pdf2020.select(\"a[href$='.pdf']\"):\n",
    "        filename = os.path.join(folder_location,link['href'].split('/')[-1])\n",
    "        with open(filename, 'wb') as f:\n",
    "            f.write(requests.get(urljoin(url,link['href'])).content)\n",
    "fetch_pdfs(\"EE3100007857\",\"2021-01-11\")"
   ]
  },
  {
   "cell_type": "code",
   "execution_count": 2,
   "metadata": {},
   "outputs": [
    {
     "name": "stdout",
     "output_type": "stream",
     "text": [
      "Processing C:\\Users\\marek.keskull\\webscraping\\2020_q1_en_eur_00_00.pdf\n",
      "Writing contents to C:\\Users\\marek.keskull\\webscraping\\2020_q1_en_eur_00_00.txt\n",
      "Processing C:\\Users\\marek.keskull\\webscraping\\2020_q1_en_eur_con_00.pdf\n",
      "Writing contents to C:\\Users\\marek.keskull\\webscraping\\2020_q1_en_eur_con_00.txt\n",
      "Processing C:\\Users\\marek.keskull\\webscraping\\2020_q2_en_eur_00_00.pdf\n",
      "Writing contents to C:\\Users\\marek.keskull\\webscraping\\2020_q2_en_eur_00_00.txt\n",
      "Processing C:\\Users\\marek.keskull\\webscraping\\2020_q2_en_eur_con_00.pdf\n",
      "Writing contents to C:\\Users\\marek.keskull\\webscraping\\2020_q2_en_eur_con_00.txt\n",
      "Processing C:\\Users\\marek.keskull\\webscraping\\2020_q3_en_eur_00_00.pdf\n",
      "Writing contents to C:\\Users\\marek.keskull\\webscraping\\2020_q3_en_eur_00_00.txt\n",
      "Processing C:\\Users\\marek.keskull\\webscraping\\2020_q3_en_eur_con_00.pdf\n",
      "Writing contents to C:\\Users\\marek.keskull\\webscraping\\2020_q3_en_eur_con_00.txt\n"
     ]
    }
   ],
   "source": [
    "#kasutan tika libraryt, selle peab panema lokaalselt käima eraldi, et kasutada tika rest teenust.\n",
    "import tika\n",
    "from tika import parser\n",
    "\n",
    "import os\n",
    "\n",
    "folder_location = r'C:\\Users\\marek.keskull\\webscraping'\n",
    "#Võtan kõik allalaetud PDF'id ning muudan need .txt failideks, et mul jääks alles ainult plain text\n",
    "def extract_text_from_pdfs_recursively(dir):\n",
    "    for root, dirs, files in os.walk(dir):\n",
    "        for file in files:\n",
    "            path_to_pdf = os.path.join(root, file)\n",
    "            [stem, ext] = os.path.splitext(path_to_pdf)\n",
    "            if ext == '.pdf':\n",
    "                print(\"Processing \" + path_to_pdf)\n",
    "                pdf_contents = parser.from_file(path_to_pdf)\n",
    "                path_to_txt = stem + '.txt'\n",
    "                with open(path_to_txt, 'w',encoding=\"utf-8\") as txt_file:\n",
    "                    print(\"Writing contents to \" + path_to_txt)\n",
    "                    txt_file.write(pdf_contents['content'])\n",
    "\n",
    "\n",
    "if __name__ == \"__main__\":\n",
    "    extract_text_from_pdfs_recursively(folder_location)"
   ]
  },
  {
   "cell_type": "code",
   "execution_count": 32,
   "metadata": {},
   "outputs": [
    {
     "data": {
      "text/html": [
       "<div>\n",
       "<style scoped>\n",
       "    .dataframe tbody tr th:only-of-type {\n",
       "        vertical-align: middle;\n",
       "    }\n",
       "\n",
       "    .dataframe tbody tr th {\n",
       "        vertical-align: top;\n",
       "    }\n",
       "\n",
       "    .dataframe thead th {\n",
       "        text-align: right;\n",
       "    }\n",
       "</style>\n",
       "<table border=\"1\" class=\"dataframe\">\n",
       "  <thead>\n",
       "    <tr style=\"text-align: right;\">\n",
       "      <th></th>\n",
       "      <th>text</th>\n",
       "    </tr>\n",
       "  </thead>\n",
       "  <tbody>\n",
       "    <tr>\n",
       "      <th>0</th>\n",
       "      <td>\\n\\n\\n\\n\\n\\n\\n\\n\\n\\n\\n\\n\\n\\n\\n\\n\\n\\n\\n\\n\\n\\n\\n...</td>\n",
       "    </tr>\n",
       "  </tbody>\n",
       "</table>\n",
       "</div>"
      ],
      "text/plain": [
       "                                                text\n",
       "0  \\n\\n\\n\\n\\n\\n\\n\\n\\n\\n\\n\\n\\n\\n\\n\\n\\n\\n\\n\\n\\n\\n\\n..."
      ]
     },
     "execution_count": 32,
     "metadata": {},
     "output_type": "execute_result"
    }
   ],
   "source": [
    "#Laen teksti välja, alustan ühe failiga.\n",
    "file_name = r\"C:\\Users\\marek.keskull\\webscraping\\2020_q2_en_eur_00_00.txt\"\n",
    "text=''\n",
    "with open(file_name,encoding=\"utf-8\") as txt_file:\n",
    "    for line in txt_file:\n",
    "        # process the line\n",
    "        text += line\n",
    "#Et pandaga töötada, teen sellest dictionary. TO-DO: võiksin saada laadida kõik .txt failid siia dictionarysse!     \n",
    "\n",
    "myDict = {\"text\":[text]}\n",
    "\n",
    "myDict\n",
    "\n",
    "import pandas as pd\n",
    "pandaframe = pd.DataFrame.from_dict(myDict)\n",
    "pandaframe"
   ]
  },
  {
   "cell_type": "markdown",
   "metadata": {},
   "source": [
    "# Andmete puhastamine"
   ]
  },
  {
   "cell_type": "markdown",
   "metadata": {},
   "source": [
    "\n",
    "- Tekst kõik väikeste tähtedega\n",
    "- Eemaldame punktid\n",
    "- Eemaldame numbrid\n",
    "- Eemdaldame ebavajaliku teksti, mis on kandiliste sulgude vahel\n"
   ]
  },
  {
   "cell_type": "code",
   "execution_count": 36,
   "metadata": {},
   "outputs": [],
   "source": [
    "import re\n",
    "import string\n",
    "#esimene round teksti puhastamiseks\n",
    "def clean_text_round1(text):\n",
    "    '''Make text lowercase, remove text in square brackets, remove punctuation and remove words containing numbers.'''\n",
    "    text = text.lower()\n",
    "    text = re.sub('\\[.*?\\]', '', text)\n",
    "    text = re.sub('[%s]' % re.escape(string.punctuation), '', text)\n",
    "    text = re.sub('\\w*\\d\\w*', '', text)\n",
    "    return text\n",
    "\n",
    "round1 = lambda x: clean_text_round1(x)\n"
   ]
  },
  {
   "cell_type": "code",
   "execution_count": 37,
   "metadata": {},
   "outputs": [
    {
     "data": {
      "text/html": [
       "<div>\n",
       "<style scoped>\n",
       "    .dataframe tbody tr th:only-of-type {\n",
       "        vertical-align: middle;\n",
       "    }\n",
       "\n",
       "    .dataframe tbody tr th {\n",
       "        vertical-align: top;\n",
       "    }\n",
       "\n",
       "    .dataframe thead th {\n",
       "        text-align: right;\n",
       "    }\n",
       "</style>\n",
       "<table border=\"1\" class=\"dataframe\">\n",
       "  <thead>\n",
       "    <tr style=\"text-align: right;\">\n",
       "      <th></th>\n",
       "      <th>text</th>\n",
       "    </tr>\n",
       "  </thead>\n",
       "  <tbody>\n",
       "    <tr>\n",
       "      <th>0</th>\n",
       "      <td>\\n\\n\\n\\n\\n\\n\\n\\n\\n\\n\\n\\n\\n\\n\\n\\n\\n\\n\\n\\n\\n\\n\\n...</td>\n",
       "    </tr>\n",
       "  </tbody>\n",
       "</table>\n",
       "</div>"
      ],
      "text/plain": [
       "                                                text\n",
       "0  \\n\\n\\n\\n\\n\\n\\n\\n\\n\\n\\n\\n\\n\\n\\n\\n\\n\\n\\n\\n\\n\\n\\n..."
      ]
     },
     "execution_count": 37,
     "metadata": {},
     "output_type": "execute_result"
    }
   ],
   "source": [
    "#vaatame puhastatud teksti\n",
    "data_clean = pd.DataFrame(pandaframe.text.apply(round1))\n",
    "data_clean"
   ]
  },
  {
   "cell_type": "code",
   "execution_count": 38,
   "metadata": {},
   "outputs": [],
   "source": [
    "# 2. round puhastamisele\n",
    "def clean_text_round2(text):\n",
    "    text = re.sub('[‘’“”…]', '', text)\n",
    "    text = re.sub('\\n', '', text)\n",
    "    return text\n",
    "\n",
    "round2 = lambda x: clean_text_round2(x)"
   ]
  },
  {
   "cell_type": "code",
   "execution_count": 40,
   "metadata": {},
   "outputs": [
    {
     "data": {
      "text/html": [
       "<div>\n",
       "<style scoped>\n",
       "    .dataframe tbody tr th:only-of-type {\n",
       "        vertical-align: middle;\n",
       "    }\n",
       "\n",
       "    .dataframe tbody tr th {\n",
       "        vertical-align: top;\n",
       "    }\n",
       "\n",
       "    .dataframe thead th {\n",
       "        text-align: right;\n",
       "    }\n",
       "</style>\n",
       "<table border=\"1\" class=\"dataframe\">\n",
       "  <thead>\n",
       "    <tr style=\"text-align: right;\">\n",
       "      <th></th>\n",
       "      <th>text</th>\n",
       "    </tr>\n",
       "  </thead>\n",
       "  <tbody>\n",
       "    <tr>\n",
       "      <th>0</th>\n",
       "      <td>powerpoint presentationcoop pank groupunaudite...</td>\n",
       "    </tr>\n",
       "  </tbody>\n",
       "</table>\n",
       "</div>"
      ],
      "text/plain": [
       "                                                text\n",
       "0  powerpoint presentationcoop pank groupunaudite..."
      ]
     },
     "execution_count": 40,
     "metadata": {},
     "output_type": "execute_result"
    }
   ],
   "source": [
    "#vaatame puhastatud teksti\n",
    "data_clean = pd.DataFrame(data_clean.text.apply(round2))\n",
    "data_clean"
   ]
  },
  {
   "cell_type": "code",
   "execution_count": 41,
   "metadata": {},
   "outputs": [
    {
     "name": "stderr",
     "output_type": "stream",
     "text": [
      "Since the GPL-licensed package `unidecode` is not installed, using Python's `unicodedata` package which yields worse results.\n"
     ]
    },
    {
     "data": {
      "text/html": [
       "<div>\n",
       "<style scoped>\n",
       "    .dataframe tbody tr th:only-of-type {\n",
       "        vertical-align: middle;\n",
       "    }\n",
       "\n",
       "    .dataframe tbody tr th {\n",
       "        vertical-align: top;\n",
       "    }\n",
       "\n",
       "    .dataframe thead th {\n",
       "        text-align: right;\n",
       "    }\n",
       "</style>\n",
       "<table border=\"1\" class=\"dataframe\">\n",
       "  <thead>\n",
       "    <tr style=\"text-align: right;\">\n",
       "      <th></th>\n",
       "      <th>text</th>\n",
       "    </tr>\n",
       "  </thead>\n",
       "  <tbody>\n",
       "    <tr>\n",
       "      <th>0</th>\n",
       "      <td>powerpoint presentationcoop pank groupunaudite...</td>\n",
       "    </tr>\n",
       "  </tbody>\n",
       "</table>\n",
       "</div>"
      ],
      "text/plain": [
       "                                                text\n",
       "0  powerpoint presentationcoop pank groupunaudite..."
      ]
     },
     "execution_count": 41,
     "metadata": {},
     "output_type": "execute_result"
    }
   ],
   "source": [
    "from cleantext import clean\n",
    "\n",
    "cleantxt = pd.DataFrame(data_clean.text.apply(round2))\n",
    "cleantxt"
   ]
  },
  {
   "cell_type": "code",
   "execution_count": 53,
   "metadata": {},
   "outputs": [
    {
     "data": {
      "text/html": [
       "<div>\n",
       "<style scoped>\n",
       "    .dataframe tbody tr th:only-of-type {\n",
       "        vertical-align: middle;\n",
       "    }\n",
       "\n",
       "    .dataframe tbody tr th {\n",
       "        vertical-align: top;\n",
       "    }\n",
       "\n",
       "    .dataframe thead th {\n",
       "        text-align: right;\n",
       "    }\n",
       "</style>\n",
       "<table border=\"1\" class=\"dataframe\">\n",
       "  <thead>\n",
       "    <tr style=\"text-align: right;\">\n",
       "      <th></th>\n",
       "      <th>text</th>\n",
       "      <th>Company</th>\n",
       "    </tr>\n",
       "  </thead>\n",
       "  <tbody>\n",
       "    <tr>\n",
       "      <th>0</th>\n",
       "      <td>powerpoint presentationcoop pank groupunaudite...</td>\n",
       "      <td>Coop</td>\n",
       "    </tr>\n",
       "  </tbody>\n",
       "</table>\n",
       "</div>"
      ],
      "text/plain": [
       "                                                text Company\n",
       "0  powerpoint presentationcoop pank groupunaudite...    Coop"
      ]
     },
     "execution_count": 53,
     "metadata": {},
     "output_type": "execute_result"
    }
   ],
   "source": [
    "companies = ['Coop']\n",
    "\n",
    "cleantxt['Company'] = companies\n",
    "cleantxt"
   ]
  },
  {
   "cell_type": "code",
   "execution_count": 46,
   "metadata": {},
   "outputs": [
    {
     "data": {
      "text/html": [
       "<div>\n",
       "<style scoped>\n",
       "    .dataframe tbody tr th:only-of-type {\n",
       "        vertical-align: middle;\n",
       "    }\n",
       "\n",
       "    .dataframe tbody tr th {\n",
       "        vertical-align: top;\n",
       "    }\n",
       "\n",
       "    .dataframe thead th {\n",
       "        text-align: right;\n",
       "    }\n",
       "</style>\n",
       "<table border=\"1\" class=\"dataframe\">\n",
       "  <thead>\n",
       "    <tr style=\"text-align: right;\">\n",
       "      <th></th>\n",
       "      <th>account</th>\n",
       "      <th>activity</th>\n",
       "      <th>additional</th>\n",
       "      <th>adequacy</th>\n",
       "      <th>allowances</th>\n",
       "      <th>allowancesloans</th>\n",
       "      <th>anydo</th>\n",
       "      <th>arising</th>\n",
       "      <th>audited</th>\n",
       "      <th>awareness</th>\n",
       "      <th>...</th>\n",
       "      <th>thousandcapital</th>\n",
       "      <th>total</th>\n",
       "      <th>totalling</th>\n",
       "      <th>trading</th>\n",
       "      <th>transaction</th>\n",
       "      <th>trend</th>\n",
       "      <th>volume</th>\n",
       "      <th>volumesloanschange</th>\n",
       "      <th>year</th>\n",
       "      <th>ühistukapitalothersshareholder</th>\n",
       "    </tr>\n",
       "  </thead>\n",
       "  <tbody>\n",
       "    <tr>\n",
       "      <th>0</th>\n",
       "      <td>1</td>\n",
       "      <td>1</td>\n",
       "      <td>5</td>\n",
       "      <td>3</td>\n",
       "      <td>5</td>\n",
       "      <td>1</td>\n",
       "      <td>1</td>\n",
       "      <td>2</td>\n",
       "      <td>1</td>\n",
       "      <td>1</td>\n",
       "      <td>...</td>\n",
       "      <td>1</td>\n",
       "      <td>7</td>\n",
       "      <td>1</td>\n",
       "      <td>2</td>\n",
       "      <td>1</td>\n",
       "      <td>1</td>\n",
       "      <td>2</td>\n",
       "      <td>1</td>\n",
       "      <td>4</td>\n",
       "      <td>1</td>\n",
       "    </tr>\n",
       "  </tbody>\n",
       "</table>\n",
       "<p>1 rows × 238 columns</p>\n",
       "</div>"
      ],
      "text/plain": [
       "   account  activity  additional  adequacy  allowances  allowancesloans  \\\n",
       "0        1         1           5         3           5                1   \n",
       "\n",
       "   anydo  arising  audited  awareness  ...  thousandcapital  total  totalling  \\\n",
       "0      1        2        1          1  ...                1      7          1   \n",
       "\n",
       "   trading  transaction  trend  volume  volumesloanschange  year  \\\n",
       "0        2            1      1       2                   1     4   \n",
       "\n",
       "   ühistukapitalothersshareholder  \n",
       "0                               1  \n",
       "\n",
       "[1 rows x 238 columns]"
      ]
     },
     "execution_count": 46,
     "metadata": {},
     "output_type": "execute_result"
    }
   ],
   "source": [
    "#moodustame document term matrix\n",
    "\n",
    "from sklearn.feature_extraction.text import CountVectorizer\n",
    "\n",
    "cv = CountVectorizer(stop_words='english')\n",
    "data_cv = cv.fit_transform(cleantxt.text)\n",
    "data_dtm = pd.DataFrame(data_cv.toarray(), columns=cv.get_feature_names())\n",
    "data_dtm.index = cleantxt.index\n",
    "data_dtm"
   ]
  },
  {
   "cell_type": "code",
   "execution_count": 50,
   "metadata": {},
   "outputs": [
    {
     "data": {
      "text/html": [
       "<div>\n",
       "<style scoped>\n",
       "    .dataframe tbody tr th:only-of-type {\n",
       "        vertical-align: middle;\n",
       "    }\n",
       "\n",
       "    .dataframe tbody tr th {\n",
       "        vertical-align: top;\n",
       "    }\n",
       "\n",
       "    .dataframe thead th {\n",
       "        text-align: right;\n",
       "    }\n",
       "</style>\n",
       "<table border=\"1\" class=\"dataframe\">\n",
       "  <thead>\n",
       "    <tr style=\"text-align: right;\">\n",
       "      <th></th>\n",
       "      <th>0</th>\n",
       "    </tr>\n",
       "  </thead>\n",
       "  <tbody>\n",
       "    <tr>\n",
       "      <th>account</th>\n",
       "      <td>1</td>\n",
       "    </tr>\n",
       "    <tr>\n",
       "      <th>activity</th>\n",
       "      <td>1</td>\n",
       "    </tr>\n",
       "    <tr>\n",
       "      <th>additional</th>\n",
       "      <td>5</td>\n",
       "    </tr>\n",
       "    <tr>\n",
       "      <th>adequacy</th>\n",
       "      <td>3</td>\n",
       "    </tr>\n",
       "    <tr>\n",
       "      <th>allowances</th>\n",
       "      <td>5</td>\n",
       "    </tr>\n",
       "  </tbody>\n",
       "</table>\n",
       "</div>"
      ],
      "text/plain": [
       "            0\n",
       "account     1\n",
       "activity    1\n",
       "additional  5\n",
       "adequacy    3\n",
       "allowances  5"
      ]
     },
     "execution_count": 50,
     "metadata": {},
     "output_type": "execute_result"
    }
   ],
   "source": [
    "data = data_dtm.transpose()\n",
    "data.head()"
   ]
  },
  {
   "cell_type": "code",
   "execution_count": 51,
   "metadata": {},
   "outputs": [
    {
     "data": {
      "text/plain": [
       "{0: [('portfolio', 21),\n",
       "  ('loan', 16),\n",
       "  ('share', 14),\n",
       "  ('profit', 14),\n",
       "  ('net', 13),\n",
       "  ('deposits', 11),\n",
       "  ('operating', 11),\n",
       "  ('gross', 10),\n",
       "  ('clients', 10),\n",
       "  ('cost', 10),\n",
       "  ('loans', 10),\n",
       "  ('business', 9),\n",
       "  ('income', 8),\n",
       "  ('increased', 7),\n",
       "  ('market', 7),\n",
       "  ('total', 7),\n",
       "  ('private', 7),\n",
       "  ('impairment', 7),\n",
       "  ('past', 7),\n",
       "  ('capital', 6),\n",
       "  ('payment', 6),\n",
       "  ('ratio', 6),\n",
       "  ('pank', 6),\n",
       "  ('new', 6),\n",
       "  ('losses', 5),\n",
       "  ('loss', 5),\n",
       "  ('additional', 5),\n",
       "  ('allowances', 5),\n",
       "  ('results', 4),\n",
       "  ('mortgage', 4)]}"
      ]
     },
     "execution_count": 51,
     "metadata": {},
     "output_type": "execute_result"
    }
   ],
   "source": [
    "# top 30 sõna sõnastikus\n",
    "top_dict = {}\n",
    "for c in data.columns:\n",
    "    top = data[c].sort_values(ascending=False).head(30)\n",
    "    top_dict[c]= list(zip(top.index, top.values))\n",
    "\n",
    "top_dict"
   ]
  }
 ],
 "metadata": {
  "kernelspec": {
   "display_name": "Python 3",
   "language": "python",
   "name": "python3"
  },
  "language_info": {
   "codemirror_mode": {
    "name": "ipython",
    "version": 3
   },
   "file_extension": ".py",
   "mimetype": "text/x-python",
   "name": "python",
   "nbconvert_exporter": "python",
   "pygments_lexer": "ipython3",
   "version": "3.8.3"
  }
 },
 "nbformat": 4,
 "nbformat_minor": 4
}
