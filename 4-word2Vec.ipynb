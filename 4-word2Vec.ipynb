{
 "cells": [
  {
   "attachments": {},
   "cell_type": "markdown",
   "metadata": {},
   "source": [
    "# Sõnade arvutamine\n",
    "\n",
    "Võtan tekstidest kõik sõnad ja võrdlen neid etteantud sõnadega, mis on seotud ESG'ga. Defineeritud sõnapaketi võtsin internetist."
   ]
  },
  {
   "cell_type": "code",
   "execution_count": null,
   "metadata": {},
   "outputs": [],
   "source": [
    "import pandas as pd\n",
    "import nltk\n",
    "datacorp = pd.read_pickle('pickles/corpus.pkl')\n",
    "datacorp[\"unigrams\"] = datacorp[\"text\"].apply(nltk.word_tokenize)\n",
    "datacorp"
   ]
  },
  {
   "cell_type": "code",
   "execution_count": 42,
   "metadata": {},
   "outputs": [],
   "source": [
    "query_E = ['Biodiversity', 'Carbon','Cleantech','Clean' , 'Climate' , 'Coal' , 'Conservation' , 'Ecosystem' , 'Emission' , 'Energy' , 'Fuel' , 'Green' , 'Land' , 'Natural' , 'Pollution' , 'Renewable' , 'Resources' , 'Sustainability' , 'Sustainable' , 'Toxic' , 'Waste' , 'Water']\n",
    "E = [x.lower() for x in query_E]\n",
    "query_S = ['Accident' , 'Alcohol' , 'Anti-personnel' , 'Behavior', 'Charity','Community' , 'Controversial' , 'Controversy' , 'Discrimination' , 'Gambling' , 'Health' , 'Human capital' , 'Human rights' , 'Inclusion' , 'Injury' , 'Lab','Munitions' , 'Opposition' , 'Pay' , 'Philanthropic' , 'Quality' , 'Responsible']\n",
    "S = [x.lower() for x in query_S]\n",
    "query_G = ['Advocacy' , 'Bribery' , 'Compensation' , 'Competitive' ,'Corruption' , 'Divestment' , 'Fraud' , 'GRI', 'Independent' , 'Justice' , 'Stability' , 'Stewardship' , 'Transparency']\n",
    "G = [x.lower() for x in query_G]"
   ]
  },
  {
   "cell_type": "code",
   "execution_count": 90,
   "metadata": {},
   "outputs": [],
   "source": [
    "import nltk, random\n",
    "\n",
    "def tokenize(text):\n",
    "    tokens = nltk.word_tokenize(text)\n",
    "    return tokens\n",
    "\n",
    "def search_abstract_single_word(tokens, keyword):\n",
    "    match = 0\n",
    "    for token in tokens:\n",
    "        if token == keyword:\n",
    "            match += 1\n",
    "    return match\n",
    "\n",
    "def search_file_single_word(abstract_list, keyword):\n",
    "    matches = list()\n",
    "    for item in abstract_list:\n",
    "        tokens = tokenize(item)\n",
    "        match = search_abstract_single_word(tokens, keyword)\n",
    "        matches.append(match)\n",
    "        scoresum = sum(matches)\n",
    "    return scoresum"
   ]
  },
  {
   "cell_type": "code",
   "execution_count": 113,
   "metadata": {},
   "outputs": [],
   "source": [
    "\n",
    "def calculate_score_sum_for_all_quarter_txts(text,keywords):\n",
    "    scr = []\n",
    "    for i in keywords:\n",
    "        score = search_file_single_word(text, i)\n",
    "        #print(i,score)\n",
    "        scr.append(score)\n",
    "        total = sum(scr)\n",
    "    return total\n"
   ]
  },
  {
   "cell_type": "code",
   "execution_count": 111,
   "metadata": {},
   "outputs": [
    {
     "data": {
      "text/plain": [
       "1148"
      ]
     },
     "execution_count": 111,
     "metadata": {},
     "output_type": "execute_result"
    }
   ],
   "source": [
    "sum(scr)"
   ]
  },
  {
   "cell_type": "code",
   "execution_count": 116,
   "metadata": {},
   "outputs": [],
   "source": [
    "totalE = calculate_score_sum_for_all_quarter_txts(datacorp.text,E)"
   ]
  },
  {
   "cell_type": "code",
   "execution_count": 117,
   "metadata": {},
   "outputs": [
    {
     "data": {
      "text/plain": [
       "1148"
      ]
     },
     "execution_count": 117,
     "metadata": {},
     "output_type": "execute_result"
    }
   ],
   "source": [
    "totalE"
   ]
  },
  {
   "cell_type": "code",
   "execution_count": 118,
   "metadata": {},
   "outputs": [],
   "source": [
    "totalG = calculate_score_sum_for_all_quarter_txts(datacorp.text,G)"
   ]
  },
  {
   "cell_type": "code",
   "execution_count": 120,
   "metadata": {},
   "outputs": [
    {
     "data": {
      "text/plain": [
       "327"
      ]
     },
     "execution_count": 120,
     "metadata": {},
     "output_type": "execute_result"
    }
   ],
   "source": [
    "totalG"
   ]
  },
  {
   "cell_type": "code",
   "execution_count": 119,
   "metadata": {},
   "outputs": [],
   "source": [
    "totalS = calculate_score_sum_for_all_quarter_txts(datacorp.text,S)"
   ]
  },
  {
   "cell_type": "code",
   "execution_count": 123,
   "metadata": {},
   "outputs": [
    {
     "data": {
      "text/plain": [
       "1667"
      ]
     },
     "execution_count": 123,
     "metadata": {},
     "output_type": "execute_result"
    }
   ],
   "source": [
    "totalESG = totalE + totalG + totalS\n",
    "totalESG"
   ]
  },
  {
   "cell_type": "code",
   "execution_count": null,
   "metadata": {},
   "outputs": [],
   "source": [
    "#to-do proovi word2veciga kätte saada sõnad, mis on seotud nende ESG sõnadega."
   ]
  }
 ],
 "metadata": {
  "kernelspec": {
   "display_name": "Python 3",
   "language": "python",
   "name": "python3"
  },
  "language_info": {
   "codemirror_mode": {
    "name": "ipython",
    "version": 3
   },
   "file_extension": ".py",
   "mimetype": "text/x-python",
   "name": "python",
   "nbconvert_exporter": "python",
   "pygments_lexer": "ipython3",
   "version": "3.8.3"
  }
 },
 "nbformat": 4,
 "nbformat_minor": 4
}
