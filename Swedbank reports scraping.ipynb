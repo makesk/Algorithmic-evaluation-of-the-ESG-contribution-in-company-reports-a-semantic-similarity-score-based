{
 "cells": [
  {
   "cell_type": "code",
   "execution_count": 46,
   "metadata": {},
   "outputs": [
    {
     "name": "stdout",
     "output_type": "stream",
     "text": [
      "C:\\Users\\marek.keskull\\webscraping\\swedbank\\Q3_20_eng.pdf\n",
      "C:\\Users\\marek.keskull\\webscraping\\swedbank\\Q2_20_eng.pdf\n",
      "C:\\Users\\marek.keskull\\webscraping\\swedbank\\Q1_20_eng.pdf\n"
     ]
    }
   ],
   "source": [
    "#Kraabime veebilehelt PDFid ja slaidiesitlused maha\n",
    "\n",
    "import os\n",
    "import requests\n",
    "from urllib.parse import urljoin\n",
    "from bs4 import BeautifulSoup\n",
    "#Tegin siia meetodi, mis võtab nasdaqbalticu lehelt siis ISIN koodi ja kuupäeva järgi kõik .pdf formaadis failid,\n",
    "#laeb need lokaalselt mulle alla.\n",
    "def fetch_pdfs():\n",
    "    url = f\"https://www.swedbank.ee/about/about/reports/start?language=ENG\"\n",
    "    #If there is no such folder, the script will create one automatically\n",
    "    folder_location = r'C:\\Users\\marek.keskull\\webscraping\\swedbank'\n",
    "    if not os.path.exists(folder_location):os.mkdir(folder_location)\n",
    "\n",
    "    response = requests.get(url)\n",
    "    soup= BeautifulSoup(response.text, \"html.parser\")\n",
    "    tr = soup.find(id=\"quarterly-reports-list\")\n",
    "    pdf2020 = tr.find(id=\"quarterly-2020\")\n",
    "    \n",
    "    for link in pdf2020.select(\"a[href$='.pdf']\"):\n",
    "        filename = os.path.join(folder_location,link['href'].split('/')[-1])\n",
    "        print(filename)\n",
    "        with open(filename, 'wb') as f:\n",
    "            f.write(requests.get(urljoin(url,link['href'])).content)\n",
    "fetch_pdfs()"
   ]
  },
  {
   "cell_type": "code",
   "execution_count": 47,
   "metadata": {},
   "outputs": [
    {
     "name": "stdout",
     "output_type": "stream",
     "text": [
      "Processing C:\\Users\\marek.keskull\\webscraping\\swedbank\\Q1_20_eng.pdf\n",
      "Writing contents to C:\\Users\\marek.keskull\\webscraping\\swedbank\\Q1_20_eng.txt\n",
      "Processing C:\\Users\\marek.keskull\\webscraping\\swedbank\\Q2_20_eng.pdf\n",
      "Writing contents to C:\\Users\\marek.keskull\\webscraping\\swedbank\\Q2_20_eng.txt\n",
      "Processing C:\\Users\\marek.keskull\\webscraping\\swedbank\\Q3_20_eng.pdf\n",
      "Writing contents to C:\\Users\\marek.keskull\\webscraping\\swedbank\\Q3_20_eng.txt\n"
     ]
    }
   ],
   "source": [
    "#kasutan tika libraryt, selle peab panema lokaalselt käima eraldi, et kasutada tika rest teenust.\n",
    "import tika\n",
    "from tika import parser\n",
    "\n",
    "import os\n",
    "\n",
    "folder_location = r'C:\\Users\\marek.keskull\\webscraping\\swedbank'\n",
    "#Võtan kõik allalaetud PDF'id ning muudan need .txt failideks, et mul jääks alles ainult plain text\n",
    "def extract_text_from_pdfs_recursively(dir):\n",
    "    for root, dirs, files in os.walk(dir):\n",
    "        for file in files:\n",
    "            path_to_pdf = os.path.join(root, file)\n",
    "            [stem, ext] = os.path.splitext(path_to_pdf)\n",
    "            if ext == '.pdf':\n",
    "                print(\"Processing \" + path_to_pdf)\n",
    "                pdf_contents = parser.from_file(path_to_pdf)\n",
    "                path_to_txt = stem + '.txt'\n",
    "                with open(path_to_txt, 'w',encoding=\"utf-8\") as txt_file:\n",
    "                    print(\"Writing contents to \" + path_to_txt)\n",
    "                    txt_file.write(pdf_contents['content'])\n",
    "                    \n",
    "\n",
    "\n",
    "if __name__ == \"__main__\":\n",
    "    extract_text_from_pdfs_recursively(folder_location)"
   ]
  },
  {
   "cell_type": "code",
   "execution_count": null,
   "metadata": {},
   "outputs": [],
   "source": []
  }
 ],
 "metadata": {
  "kernelspec": {
   "display_name": "Python 3",
   "language": "python",
   "name": "python3"
  },
  "language_info": {
   "codemirror_mode": {
    "name": "ipython",
    "version": 3
   },
   "file_extension": ".py",
   "mimetype": "text/x-python",
   "name": "python",
   "nbconvert_exporter": "python",
   "pygments_lexer": "ipython3",
   "version": "3.8.3"
  }
 },
 "nbformat": 4,
 "nbformat_minor": 4
}
