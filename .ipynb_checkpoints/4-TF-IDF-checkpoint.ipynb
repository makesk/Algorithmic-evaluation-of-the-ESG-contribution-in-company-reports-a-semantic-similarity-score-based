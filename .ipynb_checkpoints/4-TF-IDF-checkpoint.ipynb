{
 "cells": [
  {
   "cell_type": "markdown",
   "metadata": {},
   "source": [
    "# Sõnade arvutamine\n",
    "\n",
    "Võtan tekstidest kõik sõnad ja võrdlen neid etteantud sõnadega, mis on seotud ESG'ga. Defineeritud sõnapaketi võtsin internetist."
   ]
  },
  {
   "cell_type": "code",
   "execution_count": 936,
   "metadata": {
    "scrolled": true
   },
   "outputs": [],
   "source": [
    "import pandas as pd\n",
    "import nltk\n",
    "datacorp = pd.read_pickle('pickles/lhv2016t2021.pkl')\n",
    "datacorp['document'] = datacorp.index\n",
    "\n",
    "query_G = 'Audit and control, Board structure, Remuneration, Shareholder rights, Transparency and Performance'\n",
    "query_S = 'Access to medicines, HIV, AIDs, Nutrition, Product safety, Community relations, Privacy and free expression, Security, Weak, governance zones, Diversity, Health and safety, ILO core conventions, Supply chain labor standards, Bribery and corruption, Political influence, Responsible marketing, Whistle-blowing systems, disclosure and reporting, Governance of sustainability issues, Stakeholder engagement, UNGC compliance'\n",
    "query_E = 'Biofuels, Climate ,Emissions ,land, Biodiversity, Water, Environmental, standards, Pollution, Supply, Waste, recycling'\n"
   ]
  },
  {
   "cell_type": "code",
   "execution_count": 937,
   "metadata": {},
   "outputs": [],
   "source": [
    "import json\n",
    "import logging\n",
    "from re import sub\n",
    "from multiprocessing import cpu_count\n",
    "\n",
    "import numpy as np\n",
    "\n",
    "import gensim.downloader as api\n",
    "from gensim.utils import simple_preprocess\n",
    "from gensim.corpora import Dictionary\n",
    "from gensim.models import TfidfModel\n",
    "from gensim.models import WordEmbeddingSimilarityIndex\n",
    "from gensim.similarities import SparseTermSimilarityMatrix\n",
    "from gensim.similarities import SoftCosineSimilarity"
   ]
  },
  {
   "cell_type": "code",
   "execution_count": 938,
   "metadata": {},
   "outputs": [],
   "source": [
    "import logging\n",
    "\n",
    "# logimine\n",
    "logging.basicConfig(format='%(asctime)s : %(levelname)s : %(message)s', level=logging.WARNING)  # DEBUG # INFO"
   ]
  },
  {
   "cell_type": "code",
   "execution_count": 939,
   "metadata": {},
   "outputs": [
    {
     "name": "stderr",
     "output_type": "stream",
     "text": [
      "[nltk_data] Downloading package stopwords to\n",
      "[nltk_data]     C:\\Users\\marek.keskull\\AppData\\Roaming\\nltk_data...\n",
      "[nltk_data]   Package stopwords is already up-to-date!\n"
     ]
    },
    {
     "data": {
      "text/plain": [
       "True"
      ]
     },
     "execution_count": 939,
     "metadata": {},
     "output_type": "execute_result"
    }
   ],
   "source": [
    "import nltk\n",
    "\n",
    "# stoppsõnad\n",
    "nltk.download('stopwords') \n"
   ]
  },
  {
   "cell_type": "code",
   "execution_count": 988,
   "metadata": {},
   "outputs": [
    {
     "name": "stdout",
     "output_type": "stream",
     "text": [
      "25 documents\n"
     ]
    }
   ],
   "source": [
    "#andmetest võtan andmepealkirjad ja tekstid nimetan dokumentideks\n",
    "\n",
    "titles = [item for item in datacorp['document']]\n",
    "documents = [item for item in datacorp['text']]\n",
    "\n",
    "\n",
    "print(f'{len(documents)} documents')"
   ]
  },
  {
   "cell_type": "code",
   "execution_count": 989,
   "metadata": {},
   "outputs": [],
   "source": [
    "def preprocess(doc):\n",
    "    doc = doc.lower().split()\n",
    "    stop_words = stopwords.words('english')\n",
    "    doc = [w for w in doc if w not in stop_words]\n",
    "    return doc"
   ]
  },
  {
   "cell_type": "code",
   "execution_count": 990,
   "metadata": {},
   "outputs": [],
   "source": [
    "import re \n",
    "import string\n",
    "def preprocess_query(doc):\n",
    "    doc = doc.lower().split()\n",
    "    doc = [remove_punc(i) for i in doc]\n",
    "    stop_words = stopwords.words('english')\n",
    "    doc = [w for w in doc if w not in stop_words]\n",
    "    return doc"
   ]
  },
  {
   "cell_type": "code",
   "execution_count": 991,
   "metadata": {},
   "outputs": [],
   "source": [
    "def remove_punc(string):\n",
    "    punc = '''!()-[]{};:'\"\\, <>./?@#$%^&*_~'''\n",
    "    for ele in string:  \n",
    "        if ele in punc:  \n",
    "            string = string.replace(ele, \"\") \n",
    "    return string"
   ]
  },
  {
   "cell_type": "code",
   "execution_count": 992,
   "metadata": {},
   "outputs": [
    {
     "data": {
      "text/plain": [
       "['audit',\n",
       " 'control',\n",
       " 'board',\n",
       " 'structure',\n",
       " 'remuneration',\n",
       " 'shareholder',\n",
       " 'rights',\n",
       " 'transparency',\n",
       " 'performance']"
      ]
     },
     "execution_count": 992,
     "metadata": {},
     "output_type": "execute_result"
    }
   ],
   "source": [
    "corpus = [preprocess(document) for document in documents]\n",
    "\n",
    "query = preprocess_query(query_G)\n",
    "query"
   ]
  },
  {
   "cell_type": "code",
   "execution_count": 993,
   "metadata": {},
   "outputs": [
    {
     "name": "stdout",
     "output_type": "stream",
     "text": [
      "Wall time: 0 ns\n"
     ]
    }
   ],
   "source": [
    "%%time\n",
    "#pre-trained embeddings\n",
    "# glove vektoripakk, siin on 400000 vektorit sees \n",
    "#https://nlp.stanford.edu/projects/glove/\n",
    "\n",
    "if 'glove' not in locals():  \n",
    "    glove = api.load(\"glove-wiki-gigaword-50\")\n",
    "\n",
    "#print(glove.most_similar(\"remuneration\"))\n",
    "\n",
    "#A term similarity index that computes cosine similarities between word embeddings.\n",
    "#1) Compute cosine similarities between word embeddings.\n",
    "#2) Retrieve the closest word embeddings (by cosine similarity) to a given word embedding.\n",
    "\n",
    "similarity_index = WordEmbeddingSimilarityIndex(glove)"
   ]
  },
  {
   "cell_type": "code",
   "execution_count": 994,
   "metadata": {},
   "outputs": [
    {
     "name": "stdout",
     "output_type": "stream",
     "text": [
      "None\n"
     ]
    }
   ],
   "source": [
    "dictionary = Dictionary(corpus+[query])\n",
    "print(dictionary.get(8099))"
   ]
  },
  {
   "cell_type": "code",
   "execution_count": 995,
   "metadata": {},
   "outputs": [
    {
     "name": "stdout",
     "output_type": "stream",
     "text": [
      "shareholder\n"
     ]
    }
   ],
   "source": [
    "#ehitame TF-idf mudeli\n",
    "    \n",
    "#kõigepealt ehitame valmis andmesõnastiku, kus on sees kõik dokumendi sõnad ja otsingupäringu sõnad vormis: 'võti':'sõna'\n",
    "dictionary = Dictionary(corpus+[query])\n",
    "print(dictionary.get(2979))\n",
    "\n",
    "#This module implements functionality related to the \n",
    "#Term Frequency - Inverse Document Frequency vector space bag-of-words models.\n",
    "tfidf = TfidfModel(dictionary=dictionary)\n",
    "    \n",
    "    \n",
    "#Builds a sparse term similarity matrix using a term similarity index. \n",
    "similarity_matrix = SparseTermSimilarityMatrix(similarity_index, dictionary, tfidf, nonzero_limit=100) \n"
   ]
  },
  {
   "cell_type": "code",
   "execution_count": 996,
   "metadata": {},
   "outputs": [
    {
     "name": "stdout",
     "output_type": "stream",
     "text": [
      "[(261, 1), (351, 1), (719, 1), (2376, 1), (2756, 1), (2859, 1), (2979, 1), (3132, 1), (3351, 1)]\n",
      "\n",
      "[(261, 0.7095646935780332), (719, 0.4084655003777961), (2859, 0.574172344012343)]\n"
     ]
    }
   ],
   "source": [
    "dictionary = Dictionary(corpus+[query])\n",
    "tfidf = TfidfModel(dictionary=dictionary)\n",
    "print(dictionary.doc2bow(query))\n",
    "print()\n",
    "print(tfidf.__getitem__(dictionary.doc2bow(query),eps=0))\n",
    "\n",
    "\n"
   ]
  },
  {
   "cell_type": "code",
   "execution_count": 997,
   "metadata": {},
   "outputs": [
    {
     "name": "stdout",
     "output_type": "stream",
     "text": [
      "[(261, 0.7095646935780332), (719, 0.4084655003777961), (2859, 0.574172344012343)]\n",
      "[1.         0.94946295 0.91611385 0.87647414 0.7799178  1.\n",
      " 0.77677476 0.7951516  0.96929705 0.7595645  1.         1.\n",
      " 0.91914254 0.944202   1.         1.         0.69289446 0.9065589\n",
      " 0.9115491  1.         1.         0.8632685  0.9852923  0.7073752\n",
      " 0.8370332 ]\n"
     ]
    }
   ],
   "source": [
    "\n",
    "query_tf = tfidf[dictionary.doc2bow(query)]\n",
    "print(query_tf)\n",
    "\n",
    "#Compute soft cosine similarity against a corpus of documents by storing the index matrix in memory.\n",
    "index = SoftCosineSimilarity(tfidf[[dictionary.doc2bow(document) for document in corpus]],similarity_matrix)\n",
    "\n",
    "doc_similarity_scores = index[query_tf]\n",
    "print(doc_similarity_scores)\n"
   ]
  },
  {
   "cell_type": "code",
   "execution_count": 998,
   "metadata": {},
   "outputs": [
    {
     "name": "stdout",
     "output_type": "stream",
     "text": [
      "0 \t 1.000000 \t 2016_ar_en_eur_con_00.txt\n",
      "11 \t 1.000000 \t 2018_q1_en_eur_con_00.txt\n",
      "20 \t 1.000000 \t 2020_ar_en_eur_con_00.txt\n",
      "19 \t 1.000000 \t 2019_q4_en_eur_con_00.pdf.txt\n",
      "5 \t 1.000000 \t 2017_ar_en_eur_con_00.txt\n",
      "10 \t 1.000000 \t 2018_ar_en_eur_con_00.pdf.txt\n",
      "15 \t 1.000000 \t 2019_ar_en_eur_con_00.txt\n",
      "14 \t 1.000000 \t 2018_q4_en_eur_con_00.txt\n",
      "22 \t 0.985292 \t 2020_q2_en_eur_con_00.txt\n",
      "8 \t 0.969297 \t 2017_q3_en_eur_con_00.txt\n",
      "1 \t 0.949463 \t 2016_q1_en_eur_con_00.txt\n",
      "13 \t 0.944202 \t 2018_q3_en_eur_con_00.txt\n",
      "12 \t 0.919143 \t 2018_q2_en_eur_con_00.txt\n",
      "2 \t 0.916114 \t 2016_q2_en_eur_con_00.txt\n",
      "18 \t 0.911549 \t 2019_q3_en_eur_con_00.txt\n",
      "17 \t 0.906559 \t 2019_q2_en_eur_con_00.txt\n",
      "3 \t 0.876474 \t 2016_q3_en_eur_con_00.txt\n",
      "21 \t 0.863268 \t 2020_q1_en_eur_con_00.txt\n",
      "24 \t 0.837033 \t 2020_q4_en_eur_con_00.txt\n",
      "7 \t 0.795152 \t 2017_q2_en_eur_con_00.txt\n",
      "4 \t 0.779918 \t 2016_q4_en_eur_con_00.txt\n",
      "6 \t 0.776775 \t 2017_q1_en_eur_con_00.txt\n",
      "9 \t 0.759565 \t 2017_q4_en_eur_con_00.txt\n",
      "23 \t 0.707375 \t 2020_q3_en_eur_con_00.txt\n",
      "16 \t 0.692894 \t 2019_q1_en_eur_con_00.txt\n"
     ]
    }
   ],
   "source": [
    "\n",
    "sorted_indexes = np.argsort(doc_similarity_scores)[::-1]\n",
    "for idx in sorted_indexes[:30]:\n",
    "    print(f'{idx} \\t {doc_similarity_scores[idx]:0.6f} \\t {titles[idx]}')\n",
    "        \n"
   ]
  },
  {
   "cell_type": "code",
   "execution_count": 983,
   "metadata": {},
   "outputs": [],
   "source": [
    "\n",
    "doc_similar_terms = []\n",
    "max_results_per_doc = 30\n",
    "#query = ['audit', 'control', 'board', 'structure', 'remuneration', 'shareholder', 'rights', 'transparency', 'performance']\n",
    "for term in query:\n",
    "    #dictionary = Dictionary(corpus+[query])\n",
    "    #dictionary is query + my corpus(which has 25 documents)\n",
    "\n",
    "    idx1 = dictionary.token2id[term]\n",
    "    for document in corpus:\n",
    "        #print(document.name)\n",
    "        results_this_doc = []\n",
    "        for word in set(document):\n",
    "            idx2 = dictionary.token2id[word]\n",
    "            score = similarity_matrix.matrix[idx1, idx2]\n",
    "            if score > 0.0:\n",
    "                results_this_doc.append((word, score))\n",
    "                \n",
    "        results_this_doc = sorted(results_this_doc, reverse=True, key=lambda x: x[1])  \n",
    "        results_this_doc = results_this_doc[:min(len(results_this_doc), max_results_per_doc)] \n",
    "        doc_similar_terms.append(results_this_doc)\n",
    "     \n"
   ]
  },
  {
   "cell_type": "code",
   "execution_count": 984,
   "metadata": {},
   "outputs": [
    {
     "name": "stdout",
     "output_type": "stream",
     "text": [
      "20 \t 0.568 \t 2020_ar_en_eur_con_00.txt  :  access, users, secure, enabling, enable, link, services, internet, accessible, travel, enables, service, sharing, permit, maintains, operate, free, connect, applications, facilities, application, network, communication, restrict, provider, offers, monitor, via, controls, supports\n",
      "10 \t 0.564 \t 2018_ar_en_eur_con_00.pdf.txt  :  access, providers, users, secure, enabling, enable, link, services, internet, accessible, connections, sites, travel, enables, service, sharing, operate, free, user, facilities, web, application, network, communication, restrict, provider, search, facilitate, offers, monitor\n",
      "15 \t 0.553 \t 2019_ar_en_eur_con_00.txt  :  access, providers, users, secure, enabling, enable, link, services, internet, accessible, enables, service, sharing, maintains, operate, free, connect, enabled, applications, facilities, web, application, network, communication, restrict, provider, search, offers, monitor, via\n",
      "24 \t 0.549 \t 2020_q4_en_eur_con_00.txt  :  access, services, enables, service, operate, free, connect, applications, application, communication, offers, via, entry, connection, customer, transit, distribution, virtual, coverage, platforms, client, facility, unlimited, exit\n",
      "5 \t 0.514 \t 2017_ar_en_eur_con_00.txt  :  access, providers, users, secure, enabling, enable, link, services, internet, enables, service, sharing, operate, free, enabled, facilities, application, network, communication, restrict, provider, search, offers, monitor, via, controls, supports, entry, phone, availability\n",
      "18 \t 0.509 \t 2019_q3_en_eur_con_00.txt  :  access, providers, services, enables, service, free, application, links, network, communication, via, availability, customer, transit, coverage, platforms, client\n",
      "23 \t 0.504 \t 2020_q3_en_eur_con_00.txt  :  access, users, services, travel, service, free, communication, offers, via, content, contact, customer, transit, distribution, virtual, coverage, platforms\n",
      "13 \t 0.504 \t 2018_q3_en_eur_con_00.txt  :  access, providers, services, internet, enables, service, free, communication, via, availability, connection, content, customer, transit, channels, coverage, site, stations, client, platform, registration, marketplace, exit\n",
      "14 \t 0.502 \t 2018_q4_en_eur_con_00.txt  :  access, services, enables, service, free, communication, facilitate, via, availability, connection, customer, transit, channels, coverage, exit\n",
      "22 \t 0.484 \t 2020_q2_en_eur_con_00.txt  :  access, secure, services, internet, service, free, applications, application, restricted, communication, telephone, via, availability, contact, customer, transit, coverage, platforms, platform, remote\n",
      "21 \t 0.475 \t 2020_q1_en_eur_con_00.txt  :  access, secure, services, internet, service, free, connect, applications, facilities, application, communication, restrict, offers, via, block, controls, availability, customer, transit, coverage, platforms, client\n",
      "11 \t 0.475 \t 2018_q1_en_eur_con_00.txt  :  access, services, enables, service, free, communication, provider, search, via, supports, availability, connection, connected, customer, transit, coverage, destination, exit\n",
      "12 \t 0.473 \t 2018_q2_en_eur_con_00.txt  :  access, services, enables, service, free, application, communication, via, supports, availability, customer, transit, coverage, client, communications, exit\n",
      "0 \t 0.470 \t 2016_ar_en_eur_con_00.txt  :  access, users, secure, enabling, enable, link, services, internet, enables, service, sharing, operate, free, connect, enabled, user, application, network, communication, provider, search, offers, permits, monitor, via, block, controls, entry, phone, availability\n",
      "16 \t 0.457 \t 2019_q1_en_eur_con_00.txt  :  access, services, enables, service, free, network, communication, provider, via, customer, transit, virtual, coverage, centres, client\n",
      "6 \t 0.457 \t 2017_q1_en_eur_con_00.txt  :  access, providers, services, travel, enables, service, free, web, communication, provider, offers, via, customer, transit, coverage, convenient, client, unlimited\n",
      "19 \t 0.452 \t 2019_q4_en_eur_con_00.pdf.txt  :  access, link, services, enables, service, maintains, free, connect, application, communication, via, availability, connected, customer, transit, virtual, coverage, platforms, registration, communications, subscribers\n",
      "8 \t 0.450 \t 2017_q3_en_eur_con_00.txt  :  access, providers, link, services, internet, accessible, enables, service, free, communication, search, via, supports, connection, customer, transit, channels, coverage, charging, client, accessed, destination\n",
      "9 \t 0.447 \t 2017_q4_en_eur_con_00.txt  :  access, secure, services, internet, enables, service, free, connect, application, communication, search, via, entry, availability, connection, customer, transit, channels, coverage, charging, registration, register, destination, exit\n",
      "4 \t 0.442 \t 2016_q4_en_eur_con_00.txt  :  access, services, enables, service, free, communication, search, offers, via, block, entry, availability, customer, transit, coverage, client, destination, exit\n",
      "7 \t 0.430 \t 2017_q2_en_eur_con_00.txt  :  access, services, internet, enables, service, free, user, application, network, communication, offers, via, connection, distance, customer, transit, channels, virtual, coverage, site, client, automatically, visa\n",
      "17 \t 0.418 \t 2019_q2_en_eur_con_00.txt  :  access, enable, services, internet, accessible, enables, service, free, application, network, communication, provider, via, availability, connection, customer, transit, virtual, coverage, platforms, platform, communications, license, marketplace, registry\n",
      "2 \t 0.411 \t 2016_q2_en_eur_con_00.txt  :  access, providers, services, enables, service, free, connect, applications, communication, search, via, entry, customer, transit, channels, coverage, protecting, client, remote, visa, exit\n",
      "1 \t 0.384 \t 2016_q1_en_eur_con_00.txt  :  access, providers, services, internet, enables, service, free, applications, communication, provider, search, via, phone, address, connection, customer, transit, coverage, register\n",
      "3 \t 0.333 \t 2016_q3_en_eur_con_00.txt  :  access, services, accessible, enables, service, free, network, communication, search, via, connection, customer, transit, channels, coverage, platforms, registration, register, exit\n"
     ]
    }
   ],
   "source": [
    "#esimese 15 dokumendi tulemused koos sarnaste sõnadega\n",
    "results = []\n",
    "for idx in sorted_indexes[:45]:\n",
    "    \n",
    "    similar_terms_string = ', '.join([result[0] for result in doc_similar_terms[idx]])\n",
    "    results.append([idx,doc_similarity_scores[idx],titles[idx],similar_terms_string])\n",
    "    print(f'{idx} \\t {doc_similarity_scores[idx]:0.3f} \\t {titles[idx]}  :  {similar_terms_string}')"
   ]
  },
  {
   "cell_type": "code",
   "execution_count": 985,
   "metadata": {},
   "outputs": [],
   "source": [
    "df = pd.DataFrame(results, columns=[\"Index of document\", \"Similarity score in social topic\",\"Document name\",\"Most similar words in social topic\"])"
   ]
  },
  {
   "cell_type": "code",
   "execution_count": 986,
   "metadata": {},
   "outputs": [
    {
     "data": {
      "text/html": [
       "<div>\n",
       "<style scoped>\n",
       "    .dataframe tbody tr th:only-of-type {\n",
       "        vertical-align: middle;\n",
       "    }\n",
       "\n",
       "    .dataframe tbody tr th {\n",
       "        vertical-align: top;\n",
       "    }\n",
       "\n",
       "    .dataframe thead th {\n",
       "        text-align: right;\n",
       "    }\n",
       "</style>\n",
       "<table border=\"1\" class=\"dataframe\">\n",
       "  <thead>\n",
       "    <tr style=\"text-align: right;\">\n",
       "      <th></th>\n",
       "      <th>Index of document</th>\n",
       "      <th>Similarity score in social topic</th>\n",
       "      <th>Document name</th>\n",
       "      <th>Most similar words in social topic</th>\n",
       "    </tr>\n",
       "  </thead>\n",
       "  <tbody>\n",
       "    <tr>\n",
       "      <th>0</th>\n",
       "      <td>20</td>\n",
       "      <td>0.568225</td>\n",
       "      <td>2020_ar_en_eur_con_00.txt</td>\n",
       "      <td>access, users, secure, enabling, enable, link,...</td>\n",
       "    </tr>\n",
       "    <tr>\n",
       "      <th>1</th>\n",
       "      <td>10</td>\n",
       "      <td>0.563884</td>\n",
       "      <td>2018_ar_en_eur_con_00.pdf.txt</td>\n",
       "      <td>access, providers, users, secure, enabling, en...</td>\n",
       "    </tr>\n",
       "    <tr>\n",
       "      <th>2</th>\n",
       "      <td>15</td>\n",
       "      <td>0.552659</td>\n",
       "      <td>2019_ar_en_eur_con_00.txt</td>\n",
       "      <td>access, providers, users, secure, enabling, en...</td>\n",
       "    </tr>\n",
       "    <tr>\n",
       "      <th>3</th>\n",
       "      <td>24</td>\n",
       "      <td>0.549176</td>\n",
       "      <td>2020_q4_en_eur_con_00.txt</td>\n",
       "      <td>access, services, enables, service, operate, f...</td>\n",
       "    </tr>\n",
       "    <tr>\n",
       "      <th>4</th>\n",
       "      <td>5</td>\n",
       "      <td>0.513502</td>\n",
       "      <td>2017_ar_en_eur_con_00.txt</td>\n",
       "      <td>access, providers, users, secure, enabling, en...</td>\n",
       "    </tr>\n",
       "    <tr>\n",
       "      <th>5</th>\n",
       "      <td>18</td>\n",
       "      <td>0.509382</td>\n",
       "      <td>2019_q3_en_eur_con_00.txt</td>\n",
       "      <td>access, providers, services, enables, service,...</td>\n",
       "    </tr>\n",
       "    <tr>\n",
       "      <th>6</th>\n",
       "      <td>23</td>\n",
       "      <td>0.504362</td>\n",
       "      <td>2020_q3_en_eur_con_00.txt</td>\n",
       "      <td>access, users, services, travel, service, free...</td>\n",
       "    </tr>\n",
       "    <tr>\n",
       "      <th>7</th>\n",
       "      <td>13</td>\n",
       "      <td>0.503856</td>\n",
       "      <td>2018_q3_en_eur_con_00.txt</td>\n",
       "      <td>access, providers, services, internet, enables...</td>\n",
       "    </tr>\n",
       "    <tr>\n",
       "      <th>8</th>\n",
       "      <td>14</td>\n",
       "      <td>0.501616</td>\n",
       "      <td>2018_q4_en_eur_con_00.txt</td>\n",
       "      <td>access, services, enables, service, free, comm...</td>\n",
       "    </tr>\n",
       "    <tr>\n",
       "      <th>9</th>\n",
       "      <td>22</td>\n",
       "      <td>0.483542</td>\n",
       "      <td>2020_q2_en_eur_con_00.txt</td>\n",
       "      <td>access, secure, services, internet, service, f...</td>\n",
       "    </tr>\n",
       "    <tr>\n",
       "      <th>10</th>\n",
       "      <td>21</td>\n",
       "      <td>0.475485</td>\n",
       "      <td>2020_q1_en_eur_con_00.txt</td>\n",
       "      <td>access, secure, services, internet, service, f...</td>\n",
       "    </tr>\n",
       "    <tr>\n",
       "      <th>11</th>\n",
       "      <td>11</td>\n",
       "      <td>0.475468</td>\n",
       "      <td>2018_q1_en_eur_con_00.txt</td>\n",
       "      <td>access, services, enables, service, free, comm...</td>\n",
       "    </tr>\n",
       "    <tr>\n",
       "      <th>12</th>\n",
       "      <td>12</td>\n",
       "      <td>0.472834</td>\n",
       "      <td>2018_q2_en_eur_con_00.txt</td>\n",
       "      <td>access, services, enables, service, free, appl...</td>\n",
       "    </tr>\n",
       "    <tr>\n",
       "      <th>13</th>\n",
       "      <td>0</td>\n",
       "      <td>0.469974</td>\n",
       "      <td>2016_ar_en_eur_con_00.txt</td>\n",
       "      <td>access, users, secure, enabling, enable, link,...</td>\n",
       "    </tr>\n",
       "    <tr>\n",
       "      <th>14</th>\n",
       "      <td>16</td>\n",
       "      <td>0.457131</td>\n",
       "      <td>2019_q1_en_eur_con_00.txt</td>\n",
       "      <td>access, services, enables, service, free, netw...</td>\n",
       "    </tr>\n",
       "    <tr>\n",
       "      <th>15</th>\n",
       "      <td>6</td>\n",
       "      <td>0.456524</td>\n",
       "      <td>2017_q1_en_eur_con_00.txt</td>\n",
       "      <td>access, providers, services, travel, enables, ...</td>\n",
       "    </tr>\n",
       "    <tr>\n",
       "      <th>16</th>\n",
       "      <td>19</td>\n",
       "      <td>0.451968</td>\n",
       "      <td>2019_q4_en_eur_con_00.pdf.txt</td>\n",
       "      <td>access, link, services, enables, service, main...</td>\n",
       "    </tr>\n",
       "    <tr>\n",
       "      <th>17</th>\n",
       "      <td>8</td>\n",
       "      <td>0.449859</td>\n",
       "      <td>2017_q3_en_eur_con_00.txt</td>\n",
       "      <td>access, providers, link, services, internet, a...</td>\n",
       "    </tr>\n",
       "    <tr>\n",
       "      <th>18</th>\n",
       "      <td>9</td>\n",
       "      <td>0.446785</td>\n",
       "      <td>2017_q4_en_eur_con_00.txt</td>\n",
       "      <td>access, secure, services, internet, enables, s...</td>\n",
       "    </tr>\n",
       "    <tr>\n",
       "      <th>19</th>\n",
       "      <td>4</td>\n",
       "      <td>0.441617</td>\n",
       "      <td>2016_q4_en_eur_con_00.txt</td>\n",
       "      <td>access, services, enables, service, free, comm...</td>\n",
       "    </tr>\n",
       "    <tr>\n",
       "      <th>20</th>\n",
       "      <td>7</td>\n",
       "      <td>0.430045</td>\n",
       "      <td>2017_q2_en_eur_con_00.txt</td>\n",
       "      <td>access, services, internet, enables, service, ...</td>\n",
       "    </tr>\n",
       "    <tr>\n",
       "      <th>21</th>\n",
       "      <td>17</td>\n",
       "      <td>0.418397</td>\n",
       "      <td>2019_q2_en_eur_con_00.txt</td>\n",
       "      <td>access, enable, services, internet, accessible...</td>\n",
       "    </tr>\n",
       "    <tr>\n",
       "      <th>22</th>\n",
       "      <td>2</td>\n",
       "      <td>0.410981</td>\n",
       "      <td>2016_q2_en_eur_con_00.txt</td>\n",
       "      <td>access, providers, services, enables, service,...</td>\n",
       "    </tr>\n",
       "    <tr>\n",
       "      <th>23</th>\n",
       "      <td>1</td>\n",
       "      <td>0.383858</td>\n",
       "      <td>2016_q1_en_eur_con_00.txt</td>\n",
       "      <td>access, providers, services, internet, enables...</td>\n",
       "    </tr>\n",
       "    <tr>\n",
       "      <th>24</th>\n",
       "      <td>3</td>\n",
       "      <td>0.332677</td>\n",
       "      <td>2016_q3_en_eur_con_00.txt</td>\n",
       "      <td>access, services, accessible, enables, service...</td>\n",
       "    </tr>\n",
       "  </tbody>\n",
       "</table>\n",
       "</div>"
      ],
      "text/plain": [
       "    Index of document  Similarity score in social topic  \\\n",
       "0                  20                          0.568225   \n",
       "1                  10                          0.563884   \n",
       "2                  15                          0.552659   \n",
       "3                  24                          0.549176   \n",
       "4                   5                          0.513502   \n",
       "5                  18                          0.509382   \n",
       "6                  23                          0.504362   \n",
       "7                  13                          0.503856   \n",
       "8                  14                          0.501616   \n",
       "9                  22                          0.483542   \n",
       "10                 21                          0.475485   \n",
       "11                 11                          0.475468   \n",
       "12                 12                          0.472834   \n",
       "13                  0                          0.469974   \n",
       "14                 16                          0.457131   \n",
       "15                  6                          0.456524   \n",
       "16                 19                          0.451968   \n",
       "17                  8                          0.449859   \n",
       "18                  9                          0.446785   \n",
       "19                  4                          0.441617   \n",
       "20                  7                          0.430045   \n",
       "21                 17                          0.418397   \n",
       "22                  2                          0.410981   \n",
       "23                  1                          0.383858   \n",
       "24                  3                          0.332677   \n",
       "\n",
       "                    Document name  \\\n",
       "0       2020_ar_en_eur_con_00.txt   \n",
       "1   2018_ar_en_eur_con_00.pdf.txt   \n",
       "2       2019_ar_en_eur_con_00.txt   \n",
       "3       2020_q4_en_eur_con_00.txt   \n",
       "4       2017_ar_en_eur_con_00.txt   \n",
       "5       2019_q3_en_eur_con_00.txt   \n",
       "6       2020_q3_en_eur_con_00.txt   \n",
       "7       2018_q3_en_eur_con_00.txt   \n",
       "8       2018_q4_en_eur_con_00.txt   \n",
       "9       2020_q2_en_eur_con_00.txt   \n",
       "10      2020_q1_en_eur_con_00.txt   \n",
       "11      2018_q1_en_eur_con_00.txt   \n",
       "12      2018_q2_en_eur_con_00.txt   \n",
       "13      2016_ar_en_eur_con_00.txt   \n",
       "14      2019_q1_en_eur_con_00.txt   \n",
       "15      2017_q1_en_eur_con_00.txt   \n",
       "16  2019_q4_en_eur_con_00.pdf.txt   \n",
       "17      2017_q3_en_eur_con_00.txt   \n",
       "18      2017_q4_en_eur_con_00.txt   \n",
       "19      2016_q4_en_eur_con_00.txt   \n",
       "20      2017_q2_en_eur_con_00.txt   \n",
       "21      2019_q2_en_eur_con_00.txt   \n",
       "22      2016_q2_en_eur_con_00.txt   \n",
       "23      2016_q1_en_eur_con_00.txt   \n",
       "24      2016_q3_en_eur_con_00.txt   \n",
       "\n",
       "                   Most similar words in social topic  \n",
       "0   access, users, secure, enabling, enable, link,...  \n",
       "1   access, providers, users, secure, enabling, en...  \n",
       "2   access, providers, users, secure, enabling, en...  \n",
       "3   access, services, enables, service, operate, f...  \n",
       "4   access, providers, users, secure, enabling, en...  \n",
       "5   access, providers, services, enables, service,...  \n",
       "6   access, users, services, travel, service, free...  \n",
       "7   access, providers, services, internet, enables...  \n",
       "8   access, services, enables, service, free, comm...  \n",
       "9   access, secure, services, internet, service, f...  \n",
       "10  access, secure, services, internet, service, f...  \n",
       "11  access, services, enables, service, free, comm...  \n",
       "12  access, services, enables, service, free, appl...  \n",
       "13  access, users, secure, enabling, enable, link,...  \n",
       "14  access, services, enables, service, free, netw...  \n",
       "15  access, providers, services, travel, enables, ...  \n",
       "16  access, link, services, enables, service, main...  \n",
       "17  access, providers, link, services, internet, a...  \n",
       "18  access, secure, services, internet, enables, s...  \n",
       "19  access, services, enables, service, free, comm...  \n",
       "20  access, services, internet, enables, service, ...  \n",
       "21  access, enable, services, internet, accessible...  \n",
       "22  access, providers, services, enables, service,...  \n",
       "23  access, providers, services, internet, enables...  \n",
       "24  access, services, accessible, enables, service...  "
      ]
     },
     "execution_count": 986,
     "metadata": {},
     "output_type": "execute_result"
    }
   ],
   "source": [
    "df"
   ]
  },
  {
   "cell_type": "code",
   "execution_count": 987,
   "metadata": {},
   "outputs": [],
   "source": [
    "import pickle\n",
    "df.to_pickle('Socialresults/LHV.pkl')\n"
   ]
  },
  {
   "cell_type": "code",
   "execution_count": 143,
   "metadata": {},
   "outputs": [
    {
     "data": {
      "text/html": [
       "<div>\n",
       "<style scoped>\n",
       "    .dataframe tbody tr th:only-of-type {\n",
       "        vertical-align: middle;\n",
       "    }\n",
       "\n",
       "    .dataframe tbody tr th {\n",
       "        vertical-align: top;\n",
       "    }\n",
       "\n",
       "    .dataframe thead th {\n",
       "        text-align: right;\n",
       "    }\n",
       "</style>\n",
       "<table border=\"1\" class=\"dataframe\">\n",
       "  <thead>\n",
       "    <tr style=\"text-align: right;\">\n",
       "      <th></th>\n",
       "      <th>Order of similarity</th>\n",
       "      <th>Similarity score</th>\n",
       "      <th>Document name</th>\n",
       "      <th>Most similar words</th>\n",
       "    </tr>\n",
       "  </thead>\n",
       "  <tbody>\n",
       "    <tr>\n",
       "      <th>0</th>\n",
       "      <td>1</td>\n",
       "      <td>0.264879</td>\n",
       "      <td>swedbankQ2_20_eng.txt</td>\n",
       "      <td>critical, fax, bank</td>\n",
       "    </tr>\n",
       "    <tr>\n",
       "      <th>1</th>\n",
       "      <td>2</td>\n",
       "      <td>0.267326</td>\n",
       "      <td>swedbankQ3_20_eng.txt</td>\n",
       "      <td>critical, fax, bank</td>\n",
       "    </tr>\n",
       "  </tbody>\n",
       "</table>\n",
       "</div>"
      ],
      "text/plain": [
       "   Order of similarity  Similarity score          Document name  \\\n",
       "0                    1          0.264879  swedbankQ2_20_eng.txt   \n",
       "1                    2          0.267326  swedbankQ3_20_eng.txt   \n",
       "\n",
       "    Most similar words  \n",
       "0  critical, fax, bank  \n",
       "1  critical, fax, bank  "
      ]
     },
     "execution_count": 143,
     "metadata": {},
     "output_type": "execute_result"
    }
   ],
   "source": [
    "datacorpswed = pd.read_pickle('resultdata/swedsimilarityscores.pkl')\n",
    "datacorpswed"
   ]
  },
  {
   "cell_type": "code",
   "execution_count": 144,
   "metadata": {},
   "outputs": [
    {
     "data": {
      "text/html": [
       "<div>\n",
       "<style scoped>\n",
       "    .dataframe tbody tr th:only-of-type {\n",
       "        vertical-align: middle;\n",
       "    }\n",
       "\n",
       "    .dataframe tbody tr th {\n",
       "        vertical-align: top;\n",
       "    }\n",
       "\n",
       "    .dataframe thead th {\n",
       "        text-align: right;\n",
       "    }\n",
       "</style>\n",
       "<table border=\"1\" class=\"dataframe\">\n",
       "  <thead>\n",
       "    <tr style=\"text-align: right;\">\n",
       "      <th></th>\n",
       "      <th>Order of similarity</th>\n",
       "      <th>Similarity score</th>\n",
       "      <th>Document name</th>\n",
       "      <th>Most similar words</th>\n",
       "    </tr>\n",
       "  </thead>\n",
       "  <tbody>\n",
       "    <tr>\n",
       "      <th>0</th>\n",
       "      <td>1</td>\n",
       "      <td>0.261196</td>\n",
       "      <td>lhv2020_q1_en_eur_con_00.txt</td>\n",
       "      <td>note, collection, operation</td>\n",
       "    </tr>\n",
       "    <tr>\n",
       "      <th>1</th>\n",
       "      <td>2</td>\n",
       "      <td>0.040926</td>\n",
       "      <td>lhv2020_q2_en_eur_00_00.txt</td>\n",
       "      <td></td>\n",
       "    </tr>\n",
       "    <tr>\n",
       "      <th>2</th>\n",
       "      <td>3</td>\n",
       "      <td>0.267063</td>\n",
       "      <td>lhv2020_q2_en_eur_con_00.txt</td>\n",
       "      <td>note, collection</td>\n",
       "    </tr>\n",
       "    <tr>\n",
       "      <th>3</th>\n",
       "      <td>0</td>\n",
       "      <td>0.040926</td>\n",
       "      <td>lhv2020_q1_en_eur_00_00.txt</td>\n",
       "      <td></td>\n",
       "    </tr>\n",
       "  </tbody>\n",
       "</table>\n",
       "</div>"
      ],
      "text/plain": [
       "   Order of similarity  Similarity score                 Document name  \\\n",
       "0                    1          0.261196  lhv2020_q1_en_eur_con_00.txt   \n",
       "1                    2          0.040926   lhv2020_q2_en_eur_00_00.txt   \n",
       "2                    3          0.267063  lhv2020_q2_en_eur_con_00.txt   \n",
       "3                    0          0.040926   lhv2020_q1_en_eur_00_00.txt   \n",
       "\n",
       "            Most similar words  \n",
       "0  note, collection, operation  \n",
       "1                               \n",
       "2             note, collection  \n",
       "3                               "
      ]
     },
     "execution_count": 144,
     "metadata": {},
     "output_type": "execute_result"
    }
   ],
   "source": [
    "datacorplhv = pd.read_pickle('resultdata/lhvsimilarityscores.pkl')\n",
    "datacorplhv"
   ]
  },
  {
   "cell_type": "code",
   "execution_count": 6,
   "metadata": {},
   "outputs": [
    {
     "data": {
      "text/html": [
       "<div>\n",
       "<style scoped>\n",
       "    .dataframe tbody tr th:only-of-type {\n",
       "        vertical-align: middle;\n",
       "    }\n",
       "\n",
       "    .dataframe tbody tr th {\n",
       "        vertical-align: top;\n",
       "    }\n",
       "\n",
       "    .dataframe thead th {\n",
       "        text-align: right;\n",
       "    }\n",
       "</style>\n",
       "<table border=\"1\" class=\"dataframe\">\n",
       "  <thead>\n",
       "    <tr style=\"text-align: right;\">\n",
       "      <th></th>\n",
       "      <th>Index of document</th>\n",
       "      <th>Similarity score</th>\n",
       "      <th>Document name</th>\n",
       "      <th>Most similar words</th>\n",
       "    </tr>\n",
       "  </thead>\n",
       "  <tbody>\n",
       "    <tr>\n",
       "      <th>0</th>\n",
       "      <td>1</td>\n",
       "      <td>0.431862</td>\n",
       "      <td>lhv_annual_2019.txt</td>\n",
       "      <td>biodiversity, conservation, ecological, sustai...</td>\n",
       "    </tr>\n",
       "    <tr>\n",
       "      <th>1</th>\n",
       "      <td>2</td>\n",
       "      <td>0.486714</td>\n",
       "      <td>seb_annual_report_2019.txt</td>\n",
       "      <td>ecosystem, conservation, ecosystems, sustainab...</td>\n",
       "    </tr>\n",
       "    <tr>\n",
       "      <th>2</th>\n",
       "      <td>3</td>\n",
       "      <td>0.518059</td>\n",
       "      <td>swedannual2019.txt</td>\n",
       "      <td>conservation, sustainable, sustainability, div...</td>\n",
       "    </tr>\n",
       "    <tr>\n",
       "      <th>3</th>\n",
       "      <td>0</td>\n",
       "      <td>0.461859</td>\n",
       "      <td>annual_report_2019_luminor.txt</td>\n",
       "      <td>ecological, sustainable, sustainability, diver...</td>\n",
       "    </tr>\n",
       "  </tbody>\n",
       "</table>\n",
       "</div>"
      ],
      "text/plain": [
       "   Index of document  Similarity score                   Document name  \\\n",
       "0                  1          0.431862             lhv_annual_2019.txt   \n",
       "1                  2          0.486714      seb_annual_report_2019.txt   \n",
       "2                  3          0.518059              swedannual2019.txt   \n",
       "3                  0          0.461859  annual_report_2019_luminor.txt   \n",
       "\n",
       "                                  Most similar words  \n",
       "0  biodiversity, conservation, ecological, sustai...  \n",
       "1  ecosystem, conservation, ecosystems, sustainab...  \n",
       "2  conservation, sustainable, sustainability, div...  \n",
       "3  ecological, sustainable, sustainability, diver...  "
      ]
     },
     "execution_count": 6,
     "metadata": {},
     "output_type": "execute_result"
    }
   ],
   "source": [
    "import pickle\n",
    "databank = pd.read_pickle('annualresults/2019banksimilarityscores.pkl')\n",
    "databank"
   ]
  },
  {
   "cell_type": "code",
   "execution_count": 27,
   "metadata": {},
   "outputs": [],
   "source": [
    "#valideerimine näiteks balti pankade uuring: https://www.estwatch.ee/wp-content/uploads/2020/02/Vastutustundlikkus-Eesti-panganduses-Estwatch.pdf"
   ]
  },
  {
   "cell_type": "code",
   "execution_count": 195,
   "metadata": {},
   "outputs": [],
   "source": [
    "from docsim import DocSim\n",
    "import docsim"
   ]
  },
  {
   "cell_type": "code",
   "execution_count": 196,
   "metadata": {},
   "outputs": [
    {
     "name": "stdout",
     "output_type": "stream",
     "text": [
      "Loading default GloVe word vector model: glove-wiki-gigaword-50\n",
      "Model loaded\n",
      "Wall time: 28.1 s\n"
     ]
    }
   ],
   "source": [
    "%%time\n",
    "\n",
    "docsim_obj = docsim.DocSim(verbose=True)\n",
    "# docsim_obj = docsim.DocSim_threaded(verbose=True)"
   ]
  },
  {
   "cell_type": "code",
   "execution_count": 197,
   "metadata": {},
   "outputs": [
    {
     "name": "stdout",
     "output_type": "stream",
     "text": [
      "Model ready: True\n"
     ]
    }
   ],
   "source": [
    "print(f'Model ready: {docsim_obj.model_ready}')"
   ]
  },
  {
   "cell_type": "code",
   "execution_count": 198,
   "metadata": {},
   "outputs": [
    {
     "name": "stdout",
     "output_type": "stream",
     "text": [
      "6 documents\n"
     ]
    }
   ],
   "source": [
    "\n",
    "titles = [item for item in datacorp['document']]\n",
    "documents = [item for item in datacorp['text']]\n",
    "\n",
    "print(f'{len(documents)} documents')\n",
    "\n",
    "query_string = 'Audit and control, Board structure, Remuneration, Shareholder rights, Transparency and Performance'"
   ]
  },
  {
   "cell_type": "code",
   "execution_count": 199,
   "metadata": {},
   "outputs": [
    {
     "name": "stdout",
     "output_type": "stream",
     "text": [
      "6 documents loaded into corpus\n",
      "Wall time: 36.3 s\n"
     ]
    },
    {
     "name": "stderr",
     "output_type": "stream",
     "text": [
      "C:\\Users\\marek.keskull\\Anaconda3\\lib\\site-packages\\gensim\\similarities\\termsim.py:358: RuntimeWarning: divide by zero encountered in true_divide\n",
      "  Y = np.multiply(Y, 1 / np.sqrt(Y_norm))\n",
      "C:\\Users\\marek.keskull\\Anaconda3\\lib\\site-packages\\gensim\\similarities\\termsim.py:358: RuntimeWarning: invalid value encountered in multiply\n",
      "  Y = np.multiply(Y, 1 / np.sqrt(Y_norm))\n"
     ]
    }
   ],
   "source": [
    "%%time\n",
    "\n",
    "similarities = docsim_obj.similarity_query(query_string, documents)\n"
   ]
  },
  {
   "cell_type": "code",
   "execution_count": 200,
   "metadata": {},
   "outputs": [
    {
     "name": "stdout",
     "output_type": "stream",
     "text": [
      "3 \t 0.547 \t lhv2020_q2_en_eur_con_00.txt\n",
      "5 \t 0.535 \t lhv2020_q3_en_eur_con_00.txt\n",
      "1 \t 0.524 \t lhv2020_q1_en_eur_con_00.txt\n",
      "4 \t 0.355 \t lhv2020_q3_en_eur_00_00.txt\n",
      "0 \t 0.000 \t lhv2020_q1_en_eur_00_00.txt\n",
      "2 \t 0.000 \t lhv2020_q2_en_eur_00_00.txt\n"
     ]
    }
   ],
   "source": [
    "for idx, score in (sorted(enumerate(similarities), reverse=True, key=lambda x: x[1])[:15]):\n",
    "    print(f'{idx} \\t {score:0.3f} \\t {titles[idx]}')"
   ]
  },
  {
   "cell_type": "code",
   "execution_count": 201,
   "metadata": {},
   "outputs": [
    {
     "name": "stdout",
     "output_type": "stream",
     "text": [
      "[0.0, 0.5235986709594727, 0.0, 0.5465497970581055, 0.3552752733230591, 0.5345579385757446]\n"
     ]
    }
   ],
   "source": []
  },
  {
   "cell_type": "code",
   "execution_count": null,
   "metadata": {},
   "outputs": [],
   "source": []
  }
 ],
 "metadata": {
  "kernelspec": {
   "display_name": "Python 3",
   "language": "python",
   "name": "python3"
  },
  "language_info": {
   "codemirror_mode": {
    "name": "ipython",
    "version": 3
   },
   "file_extension": ".py",
   "mimetype": "text/x-python",
   "name": "python",
   "nbconvert_exporter": "python",
   "pygments_lexer": "ipython3",
   "version": "3.8.3"
  }
 },
 "nbformat": 4,
 "nbformat_minor": 4
}
